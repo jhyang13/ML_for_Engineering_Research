{
 "cells": [
  {
   "cell_type": "markdown",
   "metadata": {
    "slideshow": {
     "slide_type": "skip"
    }
   },
   "source": [
    "![uw-cmg-logo](https://matmodel.engr.wisc.edu/wp-content/uploads/sites/668/2016/02/logo3.jpg)\n",
    "![citrine-logo](https://github.com/CitrineInformatics/community-tools/blob/master/templates/fig/citrine_banner_2.png?raw=true)\n",
    "\n"
   ]
  },
  {
   "cell_type": "code",
   "execution_count": null,
   "metadata": {
    "slideshow": {
     "slide_type": "skip"
    },
    "tags": [
     "hide_input"
    ]
   },
   "outputs": [],
   "source": [
    "%%html\n",
    "<link href=\"https://fonts.googleapis.com/css?family=Barlow+Semi+Condensed|Lusitana\" rel=\"stylesheet\">\n",
    "<link rel=\"stylesheet\" type=\"text/css\" href=\"./citrine_notebook.css\">\n",
    "<!--script src = \"./script.js\"-->"
   ]
  },
  {
   "cell_type": "markdown",
   "metadata": {
    "slideshow": {
     "slide_type": "slide"
    }
   },
   "source": [
    "<div class = \"intro\">\n",
    "\n",
    "# Introduction to Machine Learning for Materials Science\n",
    "## Lab Activity\n",
    "\n",
    "<div class = \"cellContent\">\n",
    "    \n",
    "**Authors:** *Ben Afflerbach*, Computational Materials Group, University of Wisconsin–Madison, and *Rundong Jiang*, Citrine Informatics\n",
    "    \n",
    "This lab introduces students to an end-to-end example of applying a machine learning (ML) workflow to a materials science dataset to address a research problem. The lab aims at deepening the conceptual understanding of ML, and while procedural skills such as writing Python code are not the focus of this lab, students will gain experience with a number of standard open source packages by interacting with code snippets through the Jupyter Notebook format and describing what each essential command does.\n",
    "\n",
    "If you're unfamiliar with Jupyter Notebooks, take a moment to read about the [lesson format](#gs). Otherwise, go through the \"prerequisites\" section and click the \"begin lesson\" button below to get started!\n",
    "\n",
    "</div> <!-- closes content -->\n",
    "\n",
    "</div> <!-- closes intro -->\n"
   ]
  },
  {
   "cell_type": "markdown",
   "metadata": {
    "slideshow": {
     "slide_type": "slide"
    }
   },
   "source": [
    "<div class = \"section\">\n",
    "\n",
    "## Prerequisites\n",
    "\n",
    "<div class = \"cellContent\">\n",
    "\n",
    "### Saving your work on Nanohub\n",
    "This is a hosted Jupyter Notebook on Nanohub. **Any edits you've made to this notebook will not be carried over!** So it's encouraged to make the copy first and then work through the lab in that copied version.\n",
    "- You can do that by selecting File -> Make a Copy in the top left of the page.\n",
    "- Once you've made a copy, you can save that copy by clicking the save button again in the top left of the page.  \n",
    "\n",
    "  \n",
    "\n",
    "When you make that copy, you'll have to go through a slightly different proccess to access the copied verison:   \n",
    "- Launch the baseline \"Jupyter Notebook\" tool on Nanohub: https://nanohub.org/resources/jupyter  \n",
    "- Once you have that open, navigate in the file tree and open the notebook: Data -> Results -> (Most Recent Session Number) -> introml1ab -> bin -> intromllab-Copy1.ipynb\n",
    "\n",
    "### Prior Knowledge\n",
    "This lab activity is appropriate for students with a good conceptual understanding of a materials-focused machine learning workflow. For example, you should feel comfortable: \n",
    "- listing key components of a ML workflow\n",
    "- explaining the importance of featurization / feature generation for materials data\n",
    "- identifying the relationship between cross-validation and overfitting\n",
    "- distinguishing between a parameter and a hyperparameter\n",
    "- evaluating model performance using common error metrics\n",
    "\n",
    "Feel free to use modules 1-6 of \"Introduction to Machine Learning for Materials Science\" as a refresher, before proceeding with this lab. This is a series of slide decks included under \"supporting docs\" on the tool's webpage www.nanohub.org/tools/intromllab  \n",
    "\n",
    "\n",
    "\n",
    "</div> <!-- closes content -->\n",
    "\n",
    "</div> <!-- closes intro -->\n"
   ]
  },
  {
   "cell_type": "markdown",
   "metadata": {
    "slideshow": {
     "slide_type": "skip"
    }
   },
   "source": [
    "\n",
    "<div class = \"section toc\">\n",
    "\n",
    "\n",
    "## Table of Contents<a name=\"toc\"></a>\n",
    "\n",
    "<div class = \"cellContent\">\n",
    "    \n",
    "- ### [Lesson Format](#gs)\n",
    "- ### [Jupyter Notebooks Tips and Tricks](#jn)\n",
    "- ### [Section 0: Setup](#0)\n",
    "- ### [Section 1: Data Inspection](#1)\n",
    "    - ### [Importing Dataset](#lesson1.1)\n",
    "        - #### [Exercise 1.1](#e1.1)\n",
    "    - ### [Data Cleaning](#lesson1.2) \n",
    "        - #### [Exercise 1.2](#e1.2)\n",
    "        - #### [Exercise 1.3](#e1.3)\n",
    "    - ### [Evaluating Data Availability](#lesson1.3)\n",
    "        - #### [Exercise 1.4](#e1.4)\n",
    "        - #### [Exercise 1.5](#e1.5)\n",
    "        - #### [Exercise 1.6](#e1.6)\n",
    "- ### [Section 2: Feature Generation](#2)\n",
    "    - ### [MASTML Configuration](#lesson2.1)\n",
    "    - ### [Understanding Compositional Average Features](#lesson2.2)\n",
    "        - #### [Exercise 2.1](#e2.1)\n",
    "- ### [Section 3: Feature Engineering](#3)\n",
    "    - ### [Remove Constant Columns](#lesson3.1)\n",
    "        - #### [Exercise 3.1](#e3.1)\n",
    "    - ### [Remove Highly Correlated Columns](#lesson3.2)\n",
    "        - #### [Exercise 3.2](#e3.2)\n",
    "    - ### [Feature Normalization](#lesson3.3)\n",
    "- ### [Section 4: Setup for Model Evaluation](#4)\n",
    "    - ### [Establishing train/test split](#lesson4.1)\n",
    "    - ### [Evaluating train/test split](#lesson4.2)\n",
    "        - #### [Exercise 4.1](#e4.1)\n",
    "- ### [Section 5: Fitting and Evaluating a Default Model](#5)\n",
    "    - ### [Fitting the Decision Tree Model](#lesson5.1)\n",
    "    - ### [Evaluating Model Performance on Training Data](#lesson5.2)\n",
    "        - #### [Exercise 5.1](#e5.1)\n",
    "    - ### [Evaluating Model Performance on Test Data](#lesson5.3)\n",
    "        - #### [Exercise 5.2](#e5.2)\n",
    "- ### [Section 6: Hyperparameter Optimization](#6)\n",
    "    - ### [Establishing a cross-validation scheme](#lesson6.1)\n",
    "    - ### [Defining a parameter space](#lesson6.2)\n",
    "    - ### [Setting up a grid search](#lesson6.3)\n",
    "        - #### [Exercise 6.1](#e6.1)\n",
    "    - ### [Visualizing bias-variance tradeoff](#lesson6.4)\n",
    "        - #### [Exercise 6.2](#e6.2)\n",
    "    - ### [Default vs. optimized model: training and validation data performance](#lesson6.5)\n",
    "        - #### [Exercise 6.3](#e6.3)\n",
    "    - ### [Default vs. optimized model: test data performance](#lesson6.6)\n",
    "        - #### [Exercise 6.4](#e6.4)\n",
    "        - #### [Exercise 6.5](#e6.5)\n",
    "    - ### [Default vs. optimized model: visualizing the decision trees](#lesson6.7)\n",
    "        - #### [Exercise 6.6](#e6.7)\n",
    "        - #### [Exercise 6.7](#e6.7)\n",
    "- ### [Section 7: Make Predictions](#7)\n",
    "    - #### [Exercise 7.1](#e7.1)\n",
    "\n",
    "</div> <!--end content-->\n",
    "\n",
    "</div> <!--end section-->\n"
   ]
  },
  {
   "cell_type": "markdown",
   "metadata": {
    "slideshow": {
     "slide_type": "skip"
    }
   },
   "source": [
    "\n",
    "<div class = \"button\">\n",
    "\n",
    "[\\[-----------------------------------Begin Lesson-----------------------------------\\]](#0) \n",
    "    \n",
    "</div>"
   ]
  },
  {
   "cell_type": "markdown",
   "metadata": {
    "slideshow": {
     "slide_type": "skip"
    }
   },
   "source": [
    "<div class = \"protip\">\n",
    "\n",
    "### *Lesson Format<a name = \"gs\"></a>*\n",
    "\n",
    "\n",
    "<div class = \"cellContent\">\n",
    "    \n",
    "This is a Jupyter Notebook. It allows you to interact with this page by writing and running code. As you move through this notebook, you will see unique sections. Within each section, there are learning goals for the section, an overview of the content covered in each section, and then the content for the section itself. This content can take the form of written lessons, code examples, or coding exercises. The instructions for the coding exercises are wrapped in an <font color= \"#f3822f\">orange</font> rectangle. These instructions will be followed by a code block that resembles this:\n",
    "\n",
    "```python\n",
    "### FINISH THE CODE BELOW ###\n",
    "\n",
    "[Your code goes here]\n",
    "\n",
    "#---------------------------#\n",
    "```\n",
    "\n",
    "Throughout this notebook you'll also see green boxes with the title <i>ProTip</i> that look much like this one. These boxes contain inportant helpful information. \n",
    "\n",
    "</div> <!-- closes content -->\n",
    "</div> <!-- closes protip -->"
   ]
  },
  {
   "cell_type": "markdown",
   "metadata": {
    "slideshow": {
     "slide_type": "skip"
    }
   },
   "source": [
    "<div class = \"protip\">\n",
    "\n",
    "    \n",
    "### *Jupyter Notebook Tips and Tricks* <a name = \"jn\">\n",
    "\n",
    "<div class = \"cellContent\">\n",
    "\n",
    "#### Cells\n",
    "Each individual part of this notebook is known as a cell. The orange highlight bar along the left edge of this page indicates which cell is active. \n",
    "\n",
    "#### Moving between active cells\n",
    "You can move between cells by hitting the `up` and `down` arrows or by clicking on the cell you want to focus on. The `up` and `down` arrow keys will only move you between cells when you are not in edit mode.\n",
    "\n",
    "#### Edit mode\n",
    "Hit the `enter` key on the active cell to \"enter\" it and edit its contents. While in edit mode, the `up` and `down` arrow keys will not move you between cells. Double clicking a cell will also enable edit mode.\n",
    "\n",
    "#### Running a cell\n",
    "Hit `shift + enter` to run the active cell. In a code cell, the code will run and if there is output, it will be displayed immediately below the code cell. In a markdown cell, the markdown will be rendered. Running a cell will automatically make the following cell the new active cell.\n",
    "\n",
    "####  Exit edit mode\n",
    "If you're editing a cell and want to exit edit mode, hit the `esc` key. This will exit edit mode, but the current cell will still be the active cell. This action will not run the cell. It will enable you to use the `up` and `down` arrow keys to move between cells again.\n",
    "\n",
    "#### Adding a cell\n",
    "When you're not in edit mode, hit `b` to add a new cell. The new cell will be added directly below the active cell.\n",
    "\n",
    "#### Deleting a cell\n",
    "When you're not in edit mode, hit `x` to delete the active cell.\n",
    "\n",
    "#### Switching between markdown and code\n",
    "When you're not in edit mode, you can convert a code cell to a markdown cell by hitting the `m` key, and convert a markdown cell to a code cell by hitting the `c` key.\n",
    "</div> <!-- closes content -->\n",
    "\n",
    "</div ><!-- closes protip -->"
   ]
  },
  {
   "cell_type": "markdown",
   "metadata": {
    "slideshow": {
     "slide_type": "slide"
    }
   },
   "source": [
    "<div class = \"section\">\n",
    "\n",
    "# Setup<a name=\"0\"></a>\n",
    "---\n",
    "[Back to TOC](#toc)\n",
    "\n",
    "<div class = \"cellContent\">\n",
    "\n",
    "## Learning Outcomes\n",
    "1. Describe the purpose of essential Python packages used in this lab\n",
    "2. Recall that helper functions are available in this lab\n",
    "\n",
    "\n",
    "</div> <!-- closes content -->\n",
    "\n",
    "</div> <!-- closes section -->"
   ]
  },
  {
   "cell_type": "markdown",
   "metadata": {},
   "source": [
    "<div class = \"lesson\">\n",
    "\n",
    "### Python Packages<a name = \"lesson0.1\"></a>\n",
    "\n",
    "\n",
    "<div class = \"cellContent\">\n",
    "\n",
    "There are a number of Python packages we'll use throughout the lab. Each of the import statements below imports or loads these packages in so that we can use them. A brief description is given for each one.\n",
    "\n",
    "</div> <!-- closes content -->\n",
    "\n",
    "</div> <!-- closes lesson -->\n"
   ]
  },
  {
   "cell_type": "code",
   "execution_count": 24,
   "metadata": {},
   "outputs": [],
   "source": [
    "import os                        # OS stands for Operating System and provides ways for python to interact with files or directories\n",
    "from collections import Counter  # Collections is a package for handling data\n",
    "from pprint import pprint\n",
    "\n",
    "import pandas as pd              # Pandas is a data analysis library which we'll primarily use to handle our dataset\n",
    "import numpy as np               # Numpy is a package for scientific computing. We'll use it for some of it's math functions\n",
    "import pymatgen                  # Pymatgen is a library for materials analysis which we use to interpret our material compositions"
   ]
  },
  {
   "cell_type": "code",
   "execution_count": 25,
   "metadata": {},
   "outputs": [],
   "source": [
    "import matplotlib                # Matplotlib is the plotting package that we'll use throughout the lab\n",
    "import matplotlib.pyplot as plt\n",
    "import seaborn as sns            # Seaborn is a Python data visualization library based on matplotlib"
   ]
  },
  {
   "cell_type": "code",
   "execution_count": 26,
   "metadata": {},
   "outputs": [],
   "source": [
    "import sklearn                   # Scikit-learn is a machine learning package, providing the backbone for the work we'll perform\n",
    "from sklearn import metrics\n",
    "from sklearn.preprocessing import MinMaxScaler\n",
    "from sklearn.model_selection import train_test_split\n",
    "from sklearn.tree import DecisionTreeRegressor\n",
    "from sklearn.ensemble import RandomForestRegressor\n",
    "from sklearn.model_selection import cross_validate,GridSearchCV,ParameterGrid\n",
    "from sklearn.model_selection import KFold,RepeatedKFold"
   ]
  },
  {
   "cell_type": "code",
   "execution_count": 27,
   "metadata": {},
   "outputs": [],
   "source": [
    "import graphviz                  # graphviz is a package that helps visualize decision trees"
   ]
  },
  {
   "cell_type": "markdown",
   "metadata": {},
   "source": [
    "<div class = \"lesson\">\n",
    "\n",
    "### Helper Functions<a name = \"lesson0.2\"></a>\n",
    "\n",
    "\n",
    "<div class = \"cellContent\">\n",
    "\n",
    "The final import we'll do is import some custom functions that mainly put together the plots and some specific analysis that we'll use throughout the lab. If you're interested in learning what exactly these look like you can open up the helper_functions.py text file that is in the same folder as this notebook.\n",
    "\n",
    "</div> <!-- closes content -->\n",
    "\n",
    "</div> <!-- closes lesson -->\n"
   ]
  },
  {
   "cell_type": "code",
   "execution_count": 6,
   "metadata": {},
   "outputs": [],
   "source": [
    "#from helper_functions import *"
   ]
  },
  {
   "cell_type": "markdown",
   "metadata": {},
   "source": [
    "There are a number of steps we'll take which would normally have a random state. In order to have consistent results we'll fix them all by setting a random seed for all those processes."
   ]
  },
  {
   "cell_type": "code",
   "execution_count": 7,
   "metadata": {},
   "outputs": [],
   "source": [
    "seed = 2345312"
   ]
  },
  {
   "cell_type": "markdown",
   "metadata": {},
   "source": [
    "<div class = \"section\">\n",
    "\n",
    "# Materials Background<a name=\"0.5\"></a>\n",
    "___\n",
    "\n",
    "[Back to TOC](#toc)\n",
    "\n",
    "<div class = \"cellContent\">\n",
    "    \n",
    "## Band Gap Dataset\n",
    "Throughout the lab we'll be working with a digitized version of a band gap dataset compiled by two scientists, W.H. Strehlow and E.L. Cook. They compiled this dataset of elementary and binary compound semiconductors in 1973 by searching through 723 individual references. Along with simply compiling reported measurements they also took the time to identify more and less reliable data points by taking \"into consideration the material, the method of measurement, the reported sample purity, and the experimental conditions.\" They also comment that experimental measures are often greater than 5% in error and seldom less than 1%. \n",
    "\n",
    "https://citrination.com/datasets/1160/show_files\n",
    "\n",
    "\n",
    "## Uses In Materials Science\n",
    "Having access to a dataset such as this is a great place to start for machine learning. In this case band gap data has been generated over many years, and often times the first step in any machine learning problem is simply acquiring the data. Luckily Strehlow and Cook have done the largest part of the work for us already! So now let's think about how we might want to use the data that we have. We'll focus on two potential applications for our machine learning models, which will give us something to call back to when we want to decide how well the models are performing\n",
    "\n",
    "### Predicting Materials for Single-Junction Solar Cells\n",
    "Solar power is growing as a renewable energy source and there are two main factors that could improve it's viability when competing with other sources of energy. First is the cost of manufacturing materials, and the second is the efficiency of the Solar Cells themselves. If cost could be lowered via the discovery of new materials that are cheaper, and the efficiency of cells can be improved by finding materials with ideal band gaps, then solar energy could grow faster! So lets set our first goal as being a model that can predict potential solar materials based on their band gap. For simplicity we'll limit ourselves to single-junction cells, which allows us to more clearly define an operational range of band gaps. Following the suggestions from the links below (which cover things in much greater detail), in order to obtain reasonable efficiency in a single-junction solar cell we would need a material with a band gap in the range of 1.0 eV to 1.7 eV. In order to make predictions in this range then, we would need a model with an accuracy of +- 0.35 eV at the most to give us a shot and having predictions actually be within that range. \n",
    "\n",
    "For a more thorough background see the following:\n",
    "http://solarcellcentral.com/junction_page.html\n",
    "http://solarcellcentral.com/limits_page.html\n",
    "\n",
    "\n",
    "### Predicting Wide Band Gap Semi-conductors\n",
    "There are also a range of semi-conductor devices that are relatively less well known which fall under the category of Wide Band Gap semi-conductors (WBG). A few example devices would be in industrial motors where they can improve efficiency, in LED lighting and lasers, and in general electronics. Several properties of WBGs that give these device improvements are their higher voltage, temperature, and frequency operation ranges. For a more thorough discussion see the linked review! So again if we can build a model to predict WBG materials, we can potentially accelerate development of these next generation devices. Our criteria for predicting WBG materials will be having a bandgap between 2 eV and 4 eV. whereas more traditional semi-conductors have band gaps below 2 eV. That means for predicting WBG materials we need a model with an accuracy of +- 1 eV!\n",
    "\n",
    "Reference: https://www1.eere.energy.gov/manufacturing/rd/pdfs/wide_bandgap_semiconductors_factsheet.pdf\n",
    "\n",
    "</div> <!-- closes content -->\n",
    "\n",
    "</div> <!-- closes section -->"
   ]
  },
  {
   "cell_type": "markdown",
   "metadata": {},
   "source": [
    "<div class = \"section\">\n",
    "\n",
    "# Data Cleaning and Inspection<a name=\"1\"></a>\n",
    "___\n",
    "\n",
    "[Back to TOC](#toc)\n",
    "\n",
    "<div class = \"cellContent\">\n",
    "    \n",
    "## Overview\n",
    "Before getting started, let's first get to know the dataset we'll be working with a little. We'll be taking a look at what information is contained in each column, and how we can use that information to set ourselves up for success later when we start building our machine learning models. Remember that machine learning models are looking for patterns in the data! So any cleaning or pre-processing that we're doing here is with the goal of making those patterns easier to learn!\n",
    "\n",
    "## Learning Outcomes\n",
    "1. Recall common issues with materials datasets that require data cleaning\n",
    "2. Recognize effect of data cleaning steps on the dataset\n",
    "3. Evaluate the dataset using criteria of data cleaning\n",
    "4. Evaluate feasibility of different ML applications given the available data\n",
    "\n",
    "\n",
    "\n",
    "</div> <!-- closes content -->\n",
    "\n",
    "</div> <!-- closes section -->"
   ]
  },
  {
   "cell_type": "markdown",
   "metadata": {},
   "source": [
    "## Content/Exercises/Lessons"
   ]
  },
  {
   "cell_type": "markdown",
   "metadata": {},
   "source": [
    "<div class = \"lesson\">\n",
    "\n",
    "### Importing the Dataset<a name = \"lesson1.1\"></a>\n",
    "\n",
    "\n",
    "<div class = \"cellContent\">\n",
    "\n",
    "Through out this lab, you will see many objects in the code named as `_df`, which stands for <u>dataframe</u>, the primary data structure from the `pandas` package. It is similar to a spreadsheet or a table.\n",
    "\n",
    "We won't discuss dataframe operations in detail in this lab. However, external resources are available for you to familiarize yourself with dataframes such as [this introduction](https://towardsdatascience.com/pandas-dataframe-a-lightweight-intro-680e3a212b96) and [the pandas documentation](https://pandas.pydata.org/pandas-docs/stable/reference/api/pandas.DataFrame.html).\n",
    "\n",
    "</div> <!-- closes content -->\n",
    "\n",
    "</div> <!-- closes lesson -->\n"
   ]
  },
  {
   "cell_type": "code",
   "execution_count": 14,
   "metadata": {},
   "outputs": [],
   "source": [
    "# Read in the band gap data from our dataset\n",
    "# mastml_df = pd.read_csv(\"../data/bandgap_data_v2.csv\")\n",
    "# Define the file path\n",
    "file_path = r'C:/Users/jhyan/Documents/all/Lectures/UW-Madison_course_enroll/MSE_401/data/bandgap_data_v2.csv'\n",
    "# Read the CSV file into a DataFrame\n",
    "mastml_df = pd.read_csv(file_path)"
   ]
  },
  {
   "cell_type": "code",
   "execution_count": 15,
   "metadata": {
    "scrolled": true
   },
   "outputs": [
    {
     "data": {
      "text/html": [
       "<div>\n",
       "<style scoped>\n",
       "    .dataframe tbody tr th:only-of-type {\n",
       "        vertical-align: middle;\n",
       "    }\n",
       "\n",
       "    .dataframe tbody tr th {\n",
       "        vertical-align: top;\n",
       "    }\n",
       "\n",
       "    .dataframe thead th {\n",
       "        text-align: right;\n",
       "    }\n",
       "</style>\n",
       "<table border=\"1\" class=\"dataframe\">\n",
       "  <thead>\n",
       "    <tr style=\"text-align: right;\">\n",
       "      <th></th>\n",
       "      <th>index</th>\n",
       "      <th>chemicalFormula Clean</th>\n",
       "      <th>Band gap values Clean</th>\n",
       "      <th>Band gap units</th>\n",
       "      <th>Band gap method</th>\n",
       "      <th>Reliability</th>\n",
       "    </tr>\n",
       "  </thead>\n",
       "  <tbody>\n",
       "    <tr>\n",
       "      <th>0</th>\n",
       "      <td>0</td>\n",
       "      <td>Li1F1</td>\n",
       "      <td>13.60</td>\n",
       "      <td>eV</td>\n",
       "      <td>Reflection</td>\n",
       "      <td>1</td>\n",
       "    </tr>\n",
       "    <tr>\n",
       "      <th>1</th>\n",
       "      <td>1</td>\n",
       "      <td>Li1F1</td>\n",
       "      <td>12.61</td>\n",
       "      <td>eV</td>\n",
       "      <td>Reflection</td>\n",
       "      <td>1</td>\n",
       "    </tr>\n",
       "    <tr>\n",
       "      <th>2</th>\n",
       "      <td>2</td>\n",
       "      <td>Li1F1</td>\n",
       "      <td>12.60</td>\n",
       "      <td>eV</td>\n",
       "      <td>Estimated</td>\n",
       "      <td>2</td>\n",
       "    </tr>\n",
       "    <tr>\n",
       "      <th>3</th>\n",
       "      <td>3</td>\n",
       "      <td>Li1F1</td>\n",
       "      <td>12.10</td>\n",
       "      <td>eV</td>\n",
       "      <td>Absorption</td>\n",
       "      <td>2</td>\n",
       "    </tr>\n",
       "    <tr>\n",
       "      <th>4</th>\n",
       "      <td>4</td>\n",
       "      <td>Li1F1</td>\n",
       "      <td>12.00</td>\n",
       "      <td>eV</td>\n",
       "      <td>Absorption</td>\n",
       "      <td>2</td>\n",
       "    </tr>\n",
       "    <tr>\n",
       "      <th>...</th>\n",
       "      <td>...</td>\n",
       "      <td>...</td>\n",
       "      <td>...</td>\n",
       "      <td>...</td>\n",
       "      <td>...</td>\n",
       "      <td>...</td>\n",
       "    </tr>\n",
       "    <tr>\n",
       "      <th>1442</th>\n",
       "      <td>1454</td>\n",
       "      <td>Th1O2</td>\n",
       "      <td>3.30</td>\n",
       "      <td>eV</td>\n",
       "      <td>Reflection</td>\n",
       "      <td>2</td>\n",
       "    </tr>\n",
       "    <tr>\n",
       "      <th>1443</th>\n",
       "      <td>1455</td>\n",
       "      <td>UO</td>\n",
       "      <td>1.50</td>\n",
       "      <td>eV</td>\n",
       "      <td>Thermal activation</td>\n",
       "      <td>1</td>\n",
       "    </tr>\n",
       "    <tr>\n",
       "      <th>1444</th>\n",
       "      <td>1456</td>\n",
       "      <td>U1O2</td>\n",
       "      <td>2.18</td>\n",
       "      <td>eV</td>\n",
       "      <td>Absorption</td>\n",
       "      <td>1</td>\n",
       "    </tr>\n",
       "    <tr>\n",
       "      <th>1445</th>\n",
       "      <td>1457</td>\n",
       "      <td>UO</td>\n",
       "      <td>0.60</td>\n",
       "      <td>eV</td>\n",
       "      <td>Thermal activation</td>\n",
       "      <td>2</td>\n",
       "    </tr>\n",
       "    <tr>\n",
       "      <th>1446</th>\n",
       "      <td>1458</td>\n",
       "      <td>U1O2</td>\n",
       "      <td>1.30</td>\n",
       "      <td>eV</td>\n",
       "      <td>Thermal activation</td>\n",
       "      <td>2</td>\n",
       "    </tr>\n",
       "  </tbody>\n",
       "</table>\n",
       "<p>1447 rows × 6 columns</p>\n",
       "</div>"
      ],
      "text/plain": [
       "      index chemicalFormula Clean  Band gap values Clean Band gap units  \\\n",
       "0         0                 Li1F1                  13.60             eV   \n",
       "1         1                 Li1F1                  12.61             eV   \n",
       "2         2                 Li1F1                  12.60             eV   \n",
       "3         3                 Li1F1                  12.10             eV   \n",
       "4         4                 Li1F1                  12.00             eV   \n",
       "...     ...                   ...                    ...            ...   \n",
       "1442   1454                 Th1O2                   3.30             eV   \n",
       "1443   1455                    UO                   1.50             eV   \n",
       "1444   1456                  U1O2                   2.18             eV   \n",
       "1445   1457                    UO                   0.60             eV   \n",
       "1446   1458                  U1O2                   1.30             eV   \n",
       "\n",
       "         Band gap method  Reliability  \n",
       "0             Reflection            1  \n",
       "1             Reflection            1  \n",
       "2              Estimated            2  \n",
       "3             Absorption            2  \n",
       "4             Absorption            2  \n",
       "...                  ...          ...  \n",
       "1442          Reflection            2  \n",
       "1443  Thermal activation            1  \n",
       "1444          Absorption            1  \n",
       "1445  Thermal activation            2  \n",
       "1446  Thermal activation            2  \n",
       "\n",
       "[1447 rows x 6 columns]"
      ]
     },
     "execution_count": 15,
     "metadata": {},
     "output_type": "execute_result"
    }
   ],
   "source": [
    "mastml_df"
   ]
  },
  {
   "cell_type": "markdown",
   "metadata": {},
   "source": [
    "<div class = \"protip\">\n",
    "\n",
    "### *TIP FOR VIEWING CELL OUTPUT*\n",
    "\n",
    "\n",
    "<div class = \"cellContent\">\n",
    "    \n",
    "As shown above, some Cells generate visual output that will be displayed below after executing the Cell. In some cases, this output can be fairly long. By **single clicking or double clicking on the left side of the output section of the Cell**, you can limit the length or minimize for ease of viewing depending on preference. \n",
    "\n",
    "</div> <!-- closes content -->\n",
    "</div> <!-- closes protip -->"
   ]
  },
  {
   "cell_type": "markdown",
   "metadata": {},
   "source": [
    "Before we dig into too much detail, lets take a second to understand what is included in the dataset column by column:\n",
    "\n",
    "1) Index   \n",
    "When dealing with large datasets having an explicit index is essential for keeping track of data points. Throughout the lab we'll be making changes to the dataset, and without proper indexing it's easy to make mistakes and lose track of where data came from.\n",
    "By Specifying a unique number to each datapoint we can always track things down to troubleshoot, make later changes, or track where something came from.\n",
    "\n",
    "2) chemicalFormula Clean  \n",
    "This is the key input parameter for all of the models you'll build. Fundamentally all of the information that the model contains can be represented by the chemical formulas in this column. \n",
    "Take a second to think about how powerful it would be to have a model that only has these simple letters and numbers as input. With an accurate model it would be possible to think of any composition of interest and obtain an almost immediate prediction.\n",
    "\n",
    "3) Band gap values Clean, Band gap units  \n",
    "Carrying on from the previous thought we have to ask ourselves \"what is it that we're predicting?\". In this case we have a dataset of band gap values for semiconductors and insulators. Knowledge of a material's bandgap is essential for a whole range of semiconductor applications.\n",
    "If we could predict a new material's band gap we could potentially accelerate discovery and design of materials, contributing to what is already more than a 400 billion dollar industry!\n",
    "\n",
    "4) Band gap method  \n",
    "We won't dive too deeply into the method information here directly, but notice that in the dataset we have a few different experimental measurement types. This is often the case when putting together large datasets that not all data is exactly equal. \n",
    "The accuracy of a model is often limited by the quality of data availabe so it's always important to understand where are the data comes from, and if it can be combined.\n",
    "\n",
    "5) Reliability  \n",
    "As a simpler version of the idea above about data quality we have a column labeled \"Reliability\". The researcher who put the dataset together took time to check each of their sources and come up with a reliability score or 1 or 2. \n",
    "A score of 1 indicates the most reliable data, and a 2 indicates that the samples may have been less pure, or the experimental technique was less accurate. As part of the data cleaning process later on we'll only use the most reliable data we have."
   ]
  },
  {
   "cell_type": "markdown",
   "metadata": {},
   "source": [
    "<div class = \"exercise\">\n",
    "\n",
    "### Exercise 1.1<a name=\"e1.1\"></a>\n",
    "\n",
    "Question:  \n",
    "1. Look at the first 5 rows of this table. What do you notice about their chemical formula prevents us from this dataset as-is to train a machine learning model?  \n",
    "\n",
    "[Check or Submit Answers](#a1.1)\n",
    "\n",
    "</div>"
   ]
  },
  {
   "cell_type": "code",
   "execution_count": 16,
   "metadata": {},
   "outputs": [
    {
     "data": {
      "text/html": [
       "<div>\n",
       "<style scoped>\n",
       "    .dataframe tbody tr th:only-of-type {\n",
       "        vertical-align: middle;\n",
       "    }\n",
       "\n",
       "    .dataframe tbody tr th {\n",
       "        vertical-align: top;\n",
       "    }\n",
       "\n",
       "    .dataframe thead th {\n",
       "        text-align: right;\n",
       "    }\n",
       "</style>\n",
       "<table border=\"1\" class=\"dataframe\">\n",
       "  <thead>\n",
       "    <tr style=\"text-align: right;\">\n",
       "      <th></th>\n",
       "      <th>index</th>\n",
       "      <th>chemicalFormula Clean</th>\n",
       "      <th>Band gap values Clean</th>\n",
       "      <th>Band gap units</th>\n",
       "      <th>Band gap method</th>\n",
       "      <th>Reliability</th>\n",
       "    </tr>\n",
       "  </thead>\n",
       "  <tbody>\n",
       "    <tr>\n",
       "      <th>0</th>\n",
       "      <td>0</td>\n",
       "      <td>Li1F1</td>\n",
       "      <td>13.60</td>\n",
       "      <td>eV</td>\n",
       "      <td>Reflection</td>\n",
       "      <td>1</td>\n",
       "    </tr>\n",
       "    <tr>\n",
       "      <th>1</th>\n",
       "      <td>1</td>\n",
       "      <td>Li1F1</td>\n",
       "      <td>12.61</td>\n",
       "      <td>eV</td>\n",
       "      <td>Reflection</td>\n",
       "      <td>1</td>\n",
       "    </tr>\n",
       "    <tr>\n",
       "      <th>2</th>\n",
       "      <td>2</td>\n",
       "      <td>Li1F1</td>\n",
       "      <td>12.60</td>\n",
       "      <td>eV</td>\n",
       "      <td>Estimated</td>\n",
       "      <td>2</td>\n",
       "    </tr>\n",
       "    <tr>\n",
       "      <th>3</th>\n",
       "      <td>3</td>\n",
       "      <td>Li1F1</td>\n",
       "      <td>12.10</td>\n",
       "      <td>eV</td>\n",
       "      <td>Absorption</td>\n",
       "      <td>2</td>\n",
       "    </tr>\n",
       "    <tr>\n",
       "      <th>4</th>\n",
       "      <td>4</td>\n",
       "      <td>Li1F1</td>\n",
       "      <td>12.00</td>\n",
       "      <td>eV</td>\n",
       "      <td>Absorption</td>\n",
       "      <td>2</td>\n",
       "    </tr>\n",
       "  </tbody>\n",
       "</table>\n",
       "</div>"
      ],
      "text/plain": [
       "   index chemicalFormula Clean  Band gap values Clean Band gap units  \\\n",
       "0      0                 Li1F1                  13.60             eV   \n",
       "1      1                 Li1F1                  12.61             eV   \n",
       "2      2                 Li1F1                  12.60             eV   \n",
       "3      3                 Li1F1                  12.10             eV   \n",
       "4      4                 Li1F1                  12.00             eV   \n",
       "\n",
       "  Band gap method  Reliability  \n",
       "0      Reflection            1  \n",
       "1      Reflection            1  \n",
       "2       Estimated            2  \n",
       "3      Absorption            2  \n",
       "4      Absorption            2  "
      ]
     },
     "execution_count": 16,
     "metadata": {},
     "output_type": "execute_result"
    }
   ],
   "source": [
    "mastml_df.head(5)"
   ]
  },
  {
   "cell_type": "markdown",
   "metadata": {},
   "source": [
    "### Answer Exercise 1.1\n",
    "\n",
    "The first five rows of this table show the same chemical formula \"Li1F1,\" which means the dataset lacks diversity in this particular attribute. For training a machine learning model, such a feature does not provide enough variability to learn the relationships and differences between different chemical formulas effectively. This lack of diversity can lead to poor generalization of the model, making it unable to accurately predict and analyze new, different chemical formulas. Therefore, we need a more diverse set of chemical formulas to train the machine learning model effectively."
   ]
  },
  {
   "cell_type": "markdown",
   "metadata": {},
   "source": [
    "<div class = \"lesson\">\n",
    "\n",
    "### Data cleaning<a name = \"lesson1.2\"></a>\n",
    "\n",
    "\n",
    "<div class = \"cellContent\">\n",
    "\n",
    "The bandgap dataset needs to be free of inconsistencies or ambiguities for machine learning to work properly. At this stage, the most important criteria include:\n",
    "1. Each set of inputs should only have one output. In our case, each material should only have one bandgap value.\n",
    "2. There are no missing input or output values.\n",
    "\n",
    "To tackle the first problem with duplicate data let's focus on the \"Reliability\" column to the far right.\n",
    "Notice that for many of the chemical formulas in the dataset we have multiple measurements, with some being labeled as more reliable and others as less reliable. For now let's filter out all the data points (rows in the dataset) that don't have a Reliability of 1, the most reliable label and see if that removed our duplicate data.\n",
    "\n",
    "this can be accomplished in the single line of code below.\n",
    "\n",
    "</div> <!-- closes content -->\n",
    "\n",
    "</div> <!-- closes lesson -->\n"
   ]
  },
  {
   "cell_type": "code",
   "execution_count": 17,
   "metadata": {
    "scrolled": true
   },
   "outputs": [],
   "source": [
    "# Filter for only Reliability 1\n",
    "mastml_df_filtered = mastml_df[mastml_df[\"Reliability\"]==1]"
   ]
  },
  {
   "cell_type": "code",
   "execution_count": 18,
   "metadata": {
    "scrolled": true
   },
   "outputs": [
    {
     "data": {
      "text/html": [
       "<div>\n",
       "<style scoped>\n",
       "    .dataframe tbody tr th:only-of-type {\n",
       "        vertical-align: middle;\n",
       "    }\n",
       "\n",
       "    .dataframe tbody tr th {\n",
       "        vertical-align: top;\n",
       "    }\n",
       "\n",
       "    .dataframe thead th {\n",
       "        text-align: right;\n",
       "    }\n",
       "</style>\n",
       "<table border=\"1\" class=\"dataframe\">\n",
       "  <thead>\n",
       "    <tr style=\"text-align: right;\">\n",
       "      <th></th>\n",
       "      <th>index</th>\n",
       "      <th>chemicalFormula Clean</th>\n",
       "      <th>Band gap values Clean</th>\n",
       "      <th>Band gap units</th>\n",
       "      <th>Band gap method</th>\n",
       "      <th>Reliability</th>\n",
       "    </tr>\n",
       "  </thead>\n",
       "  <tbody>\n",
       "    <tr>\n",
       "      <th>0</th>\n",
       "      <td>0</td>\n",
       "      <td>Li1F1</td>\n",
       "      <td>13.60</td>\n",
       "      <td>eV</td>\n",
       "      <td>Reflection</td>\n",
       "      <td>1</td>\n",
       "    </tr>\n",
       "    <tr>\n",
       "      <th>1</th>\n",
       "      <td>1</td>\n",
       "      <td>Li1F1</td>\n",
       "      <td>12.61</td>\n",
       "      <td>eV</td>\n",
       "      <td>Reflection</td>\n",
       "      <td>1</td>\n",
       "    </tr>\n",
       "    <tr>\n",
       "      <th>6</th>\n",
       "      <td>6</td>\n",
       "      <td>Li1Cl1</td>\n",
       "      <td>9.33</td>\n",
       "      <td>eV</td>\n",
       "      <td>Reflection</td>\n",
       "      <td>1</td>\n",
       "    </tr>\n",
       "    <tr>\n",
       "      <th>7</th>\n",
       "      <td>7</td>\n",
       "      <td>Li1Br1</td>\n",
       "      <td>7.95</td>\n",
       "      <td>eV</td>\n",
       "      <td>Absorption</td>\n",
       "      <td>1</td>\n",
       "    </tr>\n",
       "    <tr>\n",
       "      <th>9</th>\n",
       "      <td>9</td>\n",
       "      <td>Li3Sb1</td>\n",
       "      <td>1.00</td>\n",
       "      <td>eV</td>\n",
       "      <td>Thermal activation</td>\n",
       "      <td>1</td>\n",
       "    </tr>\n",
       "  </tbody>\n",
       "</table>\n",
       "</div>"
      ],
      "text/plain": [
       "   index chemicalFormula Clean  Band gap values Clean Band gap units  \\\n",
       "0      0                 Li1F1                  13.60             eV   \n",
       "1      1                 Li1F1                  12.61             eV   \n",
       "6      6                Li1Cl1                   9.33             eV   \n",
       "7      7                Li1Br1                   7.95             eV   \n",
       "9      9                Li3Sb1                   1.00             eV   \n",
       "\n",
       "      Band gap method  Reliability  \n",
       "0          Reflection            1  \n",
       "1          Reflection            1  \n",
       "6          Reflection            1  \n",
       "7          Absorption            1  \n",
       "9  Thermal activation            1  "
      ]
     },
     "execution_count": 18,
     "metadata": {},
     "output_type": "execute_result"
    }
   ],
   "source": [
    "# Print filtered data\n",
    "mastml_df_filtered.head(5)"
   ]
  },
  {
   "cell_type": "markdown",
   "metadata": {},
   "source": [
    "Looking through the filtered data and paying attention to the chemical formula column there are still some formulas for which we have multiple measurements. Because we don't have another way to decide which data points to keep, let's average the values between these multiple measurements.  \n",
    "\n",
    "To do this we'll use a method in Pandas (the dataframe package we are using to handle the data) called groupby which allows us to create groups of all of the identical formulas, and then average within each group."
   ]
  },
  {
   "cell_type": "code",
   "execution_count": 19,
   "metadata": {
    "scrolled": true
   },
   "outputs": [
    {
     "name": "stderr",
     "output_type": "stream",
     "text": [
      "C:\\Users\\jhyan\\AppData\\Local\\Temp\\ipykernel_12368\\184753565.py:1: FutureWarning: The default value of numeric_only in DataFrameGroupBy.mean is deprecated. In a future version, numeric_only will default to False. Either specify numeric_only or select only columns which should be valid for the function.\n",
      "  mastml_df_clean = mastml_df_filtered.groupby(\"chemicalFormula Clean\", as_index = False).mean()\n"
     ]
    },
    {
     "data": {
      "text/html": [
       "<div>\n",
       "<style scoped>\n",
       "    .dataframe tbody tr th:only-of-type {\n",
       "        vertical-align: middle;\n",
       "    }\n",
       "\n",
       "    .dataframe tbody tr th {\n",
       "        vertical-align: top;\n",
       "    }\n",
       "\n",
       "    .dataframe thead th {\n",
       "        text-align: right;\n",
       "    }\n",
       "</style>\n",
       "<table border=\"1\" class=\"dataframe\">\n",
       "  <thead>\n",
       "    <tr style=\"text-align: right;\">\n",
       "      <th></th>\n",
       "      <th>chemicalFormula Clean</th>\n",
       "      <th>index</th>\n",
       "      <th>Band gap values Clean</th>\n",
       "      <th>Reliability</th>\n",
       "    </tr>\n",
       "  </thead>\n",
       "  <tbody>\n",
       "    <tr>\n",
       "      <th>0</th>\n",
       "      <td>Ag1Br1</td>\n",
       "      <td>808.5</td>\n",
       "      <td>3.485</td>\n",
       "      <td>1.0</td>\n",
       "    </tr>\n",
       "    <tr>\n",
       "      <th>1</th>\n",
       "      <td>Ag1Cl1</td>\n",
       "      <td>793.5</td>\n",
       "      <td>4.190</td>\n",
       "      <td>1.0</td>\n",
       "    </tr>\n",
       "    <tr>\n",
       "      <th>2</th>\n",
       "      <td>Ag1N3</td>\n",
       "      <td>783.0</td>\n",
       "      <td>3.900</td>\n",
       "      <td>1.0</td>\n",
       "    </tr>\n",
       "    <tr>\n",
       "      <th>3</th>\n",
       "      <td>Ag1Te1</td>\n",
       "      <td>820.0</td>\n",
       "      <td>0.850</td>\n",
       "      <td>1.0</td>\n",
       "    </tr>\n",
       "    <tr>\n",
       "      <th>4</th>\n",
       "      <td>Ag2O1</td>\n",
       "      <td>785.0</td>\n",
       "      <td>1.200</td>\n",
       "      <td>1.0</td>\n",
       "    </tr>\n",
       "  </tbody>\n",
       "</table>\n",
       "</div>"
      ],
      "text/plain": [
       "  chemicalFormula Clean  index  Band gap values Clean  Reliability\n",
       "0                Ag1Br1  808.5                  3.485          1.0\n",
       "1                Ag1Cl1  793.5                  4.190          1.0\n",
       "2                 Ag1N3  783.0                  3.900          1.0\n",
       "3                Ag1Te1  820.0                  0.850          1.0\n",
       "4                 Ag2O1  785.0                  1.200          1.0"
      ]
     },
     "execution_count": 19,
     "metadata": {},
     "output_type": "execute_result"
    }
   ],
   "source": [
    "mastml_df_clean = mastml_df_filtered.groupby(\"chemicalFormula Clean\", as_index = False).mean()\n",
    "\n",
    "mastml_df_clean.head(5)"
   ]
  },
  {
   "cell_type": "markdown",
   "metadata": {},
   "source": [
    "<div class = \"exercise\">\n",
    "\n",
    "### Exercise 1.2<a name=\"e1.2\"></a>\n",
    "\n",
    "Question:  \n",
    "    1. Look at the starting dataframe mastml_df, How Many data points did we start with? (make sure to look at the very first dataframe we imported and not the one after filtering for reliability) \n",
    "    2. Now look at the cleaned dataframe mastml_df_clean, how many data points do we have now?  \n",
    "\n",
    "[Check or Submit Answers](#a1.2)\n",
    "\n",
    "</div>"
   ]
  },
  {
   "cell_type": "markdown",
   "metadata": {},
   "source": [
    "### Answer Exercise 1.2"
   ]
  },
  {
   "cell_type": "code",
   "execution_count": 20,
   "metadata": {},
   "outputs": [
    {
     "name": "stdout",
     "output_type": "stream",
     "text": [
      "There are 1447 data points in the mastml_df.\n",
      "There are 467 data points in the mastml_df_clean.\n"
     ]
    }
   ],
   "source": [
    "# Look at the starting dataframe mastml_df, how many data points did we start with?\n",
    "print(\"There are\", len(mastml_df), \"data points in the mastml_df.\")\n",
    "\n",
    "# look at the cleaned dataframe mastml_df_clean, how many data points do we have now? \n",
    "print(\"There are\", len(mastml_df_clean), \"data points in the mastml_df_clean.\")"
   ]
  },
  {
   "cell_type": "markdown",
   "metadata": {},
   "source": [
    "<div class = \"lesson\">\n",
    "\n",
    "### Evaluating Data availability<a name = \"lesson1.3\"></a>\n",
    "\n",
    "<div class = \"cellContent\">\n",
    "\n",
    "In general, the more data we have, the more confident we are at predicting properties of materials that are similar to our training data.\n",
    "\n",
    "Now our dataset has been cleaned, let's start to look in more detail at the band gap values that we have. When preparing to work with a dataset, it's important to know what the values trying to be predicted look like. What's their scale and how are they distributed.\n",
    "\n",
    "</div> <!-- closes content -->\n",
    "\n",
    "</div> <!-- closes lesson -->"
   ]
  },
  {
   "cell_type": "code",
   "execution_count": 21,
   "metadata": {
    "scrolled": true
   },
   "outputs": [
    {
     "data": {
      "text/plain": [
       "count    467.000\n",
       "mean       2.231\n",
       "std        2.287\n",
       "min        0.009\n",
       "25%        0.695\n",
       "50%        1.435\n",
       "75%        3.000\n",
       "max       13.105\n",
       "Name: Band gap values Clean, dtype: float64"
      ]
     },
     "execution_count": 21,
     "metadata": {},
     "output_type": "execute_result"
    }
   ],
   "source": [
    "# generate basic statistics on our band gap values\n",
    "mastml_df_clean[\"Band gap values Clean\"].describe().round(3)"
   ]
  },
  {
   "cell_type": "markdown",
   "metadata": {},
   "source": [
    "<div class = \"exercise\">\n",
    "\n",
    "### Exercise 1.3<a name=\"e1.3\"></a>\n",
    "\n",
    "Question:  \n",
    "    1. What is the range of band gap values?  \n",
    "    2. Think ahead to once we build our model. Would a predicted error of 5 eV be considered small enough to be an accurate or useful prediction?  \n",
    "    3. How about a predicted error of 0.5 eV?\n",
    "\n",
    "[Check or Submit Answers](#a1.3)\n",
    "\n",
    "</div>"
   ]
  },
  {
   "cell_type": "markdown",
   "metadata": {},
   "source": [
    "### Answer Exercise 1.3\n",
    "\n",
    "1. max - min = 13.105 - 0.009 = 13.096\n",
    "\n",
    "2. Because the mean represents the average level of all band gap values in the dataset, which is approximately 2.231 eV. The std measures the dispersion of these band gap values, and a std of 2.287 eV indicates a relatively large degree of dispersion of data points around the mean. Taking these two statistical measures into consideration, a 5 eV error is equivalent to more than twice the mean value, and it is also a significant proportion of the standard deviation. This suggests that the error value has a relatively large level of variation compared to the band gap values. Therefore, from a statistical perspective, a 5 eV error is considered relatively large in relation to the band gap values in the dataset;\n",
    "\n",
    "3. An error of 0.5 eV represents approximately 22.4% of the mean value of 2.231 eV. In the context of the standard deviation of 2.287 eV, this error accounts for about 21.9% of the standard deviation. This indicates that a prediction error of 0.5 eV is relatively small. According to the statistics, 25% of the Band gap values Clean are less than 0.695 eV, and 75% are less than 3.000 eV. Therefore, an error of 0.5 eV appears reasonable within the range of most data points."
   ]
  },
  {
   "cell_type": "markdown",
   "metadata": {},
   "source": [
    "Apart from just the ranges of values it is also useful to visualize the distribution of data.  \n",
    "Let's build a simple histogram of the band gap values."
   ]
  },
  {
   "cell_type": "code",
   "execution_count": 22,
   "metadata": {},
   "outputs": [
    {
     "data": {
      "image/png": "[encoded data removed]",
      "text/plain": [
       "<Figure size 640x480 with 1 Axes>"
      ]
     },
     "metadata": {},
     "output_type": "display_data"
    }
   ],
   "source": [
    "# we'll also define a simple histogram plotting function to use later\n",
    "def histogram_plot(data):\n",
    "    fig1,ax1 = plt.subplots()\n",
    "    ax1.hist(data,bins=range(13),density=1)\n",
    "    ax1.set_xticks(range(13))\n",
    "    ax1.set_xlabel('Measured Bandgap [eV]')\n",
    "    ax1.set_ylabel('Counts [fraction]')\n",
    "    plt.show()\n",
    "\n",
    "histogram_plot(mastml_df_clean[\"Band gap values Clean\"].astype(\"float\"))"
   ]
  },
  {
   "cell_type": "markdown",
   "metadata": {},
   "source": [
    "<div class = \"exercise\">\n",
    "\n",
    "### Exercise 1.4<a name=\"e1.4\"></a>\n",
    "\n",
    "Questions:  \n",
    "1. Is our band gap data balanced (i.e. uniformly distributed across its range)?\n",
    "2. Given your answer to question 1, Would you expect that the model has similar performance between 0-2 eV as between 10-12 eV?\n",
    "\n",
    "Challenges (optional questions):\n",
    "3. What is one thing we can do to address this issue?\n",
    "\n",
    "[Check or Submit Answers](#a1.4)\n",
    "\n",
    "</div>"
   ]
  },
  {
   "cell_type": "markdown",
   "metadata": {},
   "source": [
    "### Answer Exercise 1.4\n",
    "\n",
    "1. According to the histogram polt, we have more data in 0–4 than 5–12. It appears to be right-skewed or positively skewed, meaning that there are more data points at lower band gap values, and the frequency of data points decreases as band gap values increase. Thus, it is not uniformly distributed across its range and our band gap data is not balanced.\n",
    "\n",
    "2. Given the imbalance in the band gap data distribution, we would not expect the model to have similar performance between the 0-2 eV range and the 10-12 eV range. Since there are more data points in the lower band gap range (0-2 eV), the model would likely have more data to learn from in that range and may perform better there. Conversely, in the 10-12 eV range, where there are fewer data points, the model may have limited examples to learn from, potentially leading to lower performance in that range."
   ]
  },
  {
   "cell_type": "markdown",
   "metadata": {},
   "source": [
    "Let's also try to get a feel for the compositions present in our dataset.  \n",
    "Specifically we'll focus on looking at which elements are present in the data, and in what quantity."
   ]
  },
  {
   "cell_type": "code",
   "execution_count": 29,
   "metadata": {
    "scrolled": true
   },
   "outputs": [],
   "source": [
    "import pymatgen.core.composition\n",
    "\n",
    "# parse out individual elements for each formula using pymatgen's composition parser\n",
    "element_list = list()\n",
    "for idx in mastml_df.index:\n",
    "    element_list.extend(pymatgen.core.composition.Composition(mastml_df[\"chemicalFormula Clean\"][idx]).elements)"
   ]
  },
  {
   "cell_type": "code",
   "execution_count": 30,
   "metadata": {
    "scrolled": true
   },
   "outputs": [],
   "source": [
    "# setup a counter to count each element\n",
    "temp_counter = Counter(element_list)\n",
    "element_tuples = list(zip(list(temp_counter.keys()),list(temp_counter.values())))\n",
    "element_df = pd.DataFrame(element_tuples,columns=[\"Element\",\"Count\"])\n",
    "element_df_sorted = element_df.sort_values(by=[\"Count\"],ascending=False)"
   ]
  },
  {
   "cell_type": "code",
   "execution_count": 31,
   "metadata": {
    "scrolled": true
   },
   "outputs": [
    {
     "data": {
      "text/html": [
       "<div>\n",
       "<style scoped>\n",
       "    .dataframe tbody tr th:only-of-type {\n",
       "        vertical-align: middle;\n",
       "    }\n",
       "\n",
       "    .dataframe tbody tr th {\n",
       "        vertical-align: top;\n",
       "    }\n",
       "\n",
       "    .dataframe thead th {\n",
       "        text-align: right;\n",
       "    }\n",
       "</style>\n",
       "<table border=\"1\" class=\"dataframe\">\n",
       "  <thead>\n",
       "    <tr style=\"text-align: right;\">\n",
       "      <th></th>\n",
       "      <th>Element</th>\n",
       "      <th>Count</th>\n",
       "    </tr>\n",
       "  </thead>\n",
       "  <tbody>\n",
       "    <tr>\n",
       "      <th>8</th>\n",
       "      <td>O</td>\n",
       "      <td>240</td>\n",
       "    </tr>\n",
       "    <tr>\n",
       "      <th>10</th>\n",
       "      <td>Se</td>\n",
       "      <td>196</td>\n",
       "    </tr>\n",
       "    <tr>\n",
       "      <th>9</th>\n",
       "      <td>S</td>\n",
       "      <td>191</td>\n",
       "    </tr>\n",
       "    <tr>\n",
       "      <th>11</th>\n",
       "      <td>Te</td>\n",
       "      <td>187</td>\n",
       "    </tr>\n",
       "    <tr>\n",
       "      <th>15</th>\n",
       "      <td>As</td>\n",
       "      <td>141</td>\n",
       "    </tr>\n",
       "  </tbody>\n",
       "</table>\n",
       "</div>"
      ],
      "text/plain": [
       "   Element  Count\n",
       "8        O    240\n",
       "10      Se    196\n",
       "9        S    191\n",
       "11      Te    187\n",
       "15      As    141"
      ]
     },
     "execution_count": 31,
     "metadata": {},
     "output_type": "execute_result"
    }
   ],
   "source": [
    "element_df_sorted.head(5)"
   ]
  },
  {
   "cell_type": "code",
   "execution_count": 32,
   "metadata": {},
   "outputs": [
    {
     "data": {
      "text/html": [
       "<div>\n",
       "<style scoped>\n",
       "    .dataframe tbody tr th:only-of-type {\n",
       "        vertical-align: middle;\n",
       "    }\n",
       "\n",
       "    .dataframe tbody tr th {\n",
       "        vertical-align: top;\n",
       "    }\n",
       "\n",
       "    .dataframe thead th {\n",
       "        text-align: right;\n",
       "    }\n",
       "</style>\n",
       "<table border=\"1\" class=\"dataframe\">\n",
       "  <thead>\n",
       "    <tr style=\"text-align: right;\">\n",
       "      <th></th>\n",
       "      <th>Element</th>\n",
       "      <th>Count</th>\n",
       "    </tr>\n",
       "  </thead>\n",
       "  <tbody>\n",
       "    <tr>\n",
       "      <th>66</th>\n",
       "      <td>Ta</td>\n",
       "      <td>3</td>\n",
       "    </tr>\n",
       "    <tr>\n",
       "      <th>39</th>\n",
       "      <td>Y</td>\n",
       "      <td>3</td>\n",
       "    </tr>\n",
       "    <tr>\n",
       "      <th>70</th>\n",
       "      <td>Ir</td>\n",
       "      <td>2</td>\n",
       "    </tr>\n",
       "    <tr>\n",
       "      <th>62</th>\n",
       "      <td>Tm</td>\n",
       "      <td>1</td>\n",
       "    </tr>\n",
       "    <tr>\n",
       "      <th>64</th>\n",
       "      <td>Lu</td>\n",
       "      <td>1</td>\n",
       "    </tr>\n",
       "  </tbody>\n",
       "</table>\n",
       "</div>"
      ],
      "text/plain": [
       "   Element  Count\n",
       "66      Ta      3\n",
       "39       Y      3\n",
       "70      Ir      2\n",
       "62      Tm      1\n",
       "64      Lu      1"
      ]
     },
     "execution_count": 32,
     "metadata": {},
     "output_type": "execute_result"
    }
   ],
   "source": [
    "element_df_sorted.tail(5)"
   ]
  },
  {
   "cell_type": "markdown",
   "metadata": {},
   "source": [
    "<div class = \"exercise\">\n",
    "\n",
    "### Exercise 1.5<a name=\"e1.5\"></a>\n",
    "Questions:  \n",
    "1. What are the five most common elements in the dataset?  \n",
    "2. What are the five least common elements in the dataset?  \n",
    "3. Rank your confidence in the following predictions:  \n",
    "\n",
    "    - predictions containing Oxygen (oxides)  \n",
    "    - predictions containing Iridium  \n",
    "    - predictions containing an element that doesn't appear in the dataset at all  \n",
    "\n",
    "[Check or Submit Answers](#a1.5)\n",
    "\n",
    "</div>"
   ]
  },
  {
   "cell_type": "markdown",
   "metadata": {},
   "source": [
    "### Answer Exercise 1.5\n",
    "\n",
    "1. O, Se, S, Te, As\n",
    "\n",
    "2. Ta, Y, Ir, Tm, Lu\n",
    "\n",
    "3. Scale 0–10, with 10 being very confident and 0 being no hope at all\n",
    "\n",
    "- predictions containing Oxygen (oxides): almost 10, very confident, because it is the most common element in the dataset, and its frequent presence suggests it plays a significant role in various compounds;\n",
    "\n",
    "- predictions containing Iridium: about 3—with some hope or moderate confidence, but not too much, because it is the third least common element, making predictions involving it less common but still plausible;\n",
    "\n",
    "- predictions containing an element that doesn't appear in the dataset at all: Lu, because it is the least common element. As elements not present in the dataset are virtually impossible to predict accurately, given no training data for reference."
   ]
  },
  {
   "cell_type": "code",
   "execution_count": 34,
   "metadata": {},
   "outputs": [],
   "source": [
    "# Output data to csv - note depending on when you run this the updated data file may have been pregenerated so this cell isn't technically necessary.\n",
    "output_path = r'C:/Users/jhyan/Documents/all/Lectures/UW-Madison_course_enroll/MSE_401/data/bandgap_data_v3.csv'\n",
    "\n",
    "if os.path.isfile(output_path):\n",
    "    print(output_path,\" exists, not creating new file\")\n",
    "else:\n",
    "    mastml_df_clean.to_csv(output_path)"
   ]
  },
  {
   "cell_type": "markdown",
   "metadata": {},
   "source": [
    "<div class = \"section\">\n",
    "\n",
    "# 2. Feature Generation<a name=\"2\"></a>\n",
    "---\n",
    "[Back to TOC](#toc)\n",
    "\n",
    "<div class = \"cellContent\">\n",
    "\n",
    "## Overview\n",
    "This section covers generating features from chemical formulas in the dataset. This featurization step is necessary to turn the text representation of materials into a numerical representation that the models can understand! In order to make this notebook independent from outside code versioning as much as possible, we'll use pre-generated features using the MAST-ML code package instead of generating them in real time in this notebook. Though the features used are from a previous version of MAST-ML which generated a list of \"composition average elemental properties\" to represent each unique material.\n",
    "\n",
    "## Learning Outcomes\n",
    "1. Validate generated features by manual calculation\n",
    "2. Assess generated features using criteria of variability\n",
    "3. Inspect features for relative size and shape\n",
    "3. Discuss qualities of a good feature\n",
    "\n",
    "\n",
    "</div> <!-- closes content -->\n",
    "\n",
    "</div> <!-- closes section -->"
   ]
  },
  {
   "cell_type": "markdown",
   "metadata": {},
   "source": [
    "<div class = \"lesson\">\n",
    "\n",
    "### MASTML Configuration<a name = \"lesson2.1\"></a>\n",
    "\n",
    "<div class = \"cellContent\">\n",
    "\n",
    "[Materials Simulation Toolkit for Machine Learning (MAST-ML)](https://mastmldocs.readthedocs.io/en/latest/) is an open-source Python package designed to broaden and accelerate the use of machine learning in materials science research. It supports a full end-to-end machine learning workflow including all of the steps that we code by hand in this lab, but here we will talk through how specifically it generates Composition Average Elemental Properties to featurize a dataset. \n",
    "\n",
    "</div> <!-- closes content -->\n",
    "\n",
    "</div> <!-- closes lesson -->"
   ]
  },
  {
   "cell_type": "code",
   "execution_count": 36,
   "metadata": {},
   "outputs": [],
   "source": [
    "# get a new dataframe of generated features from the pregenerated matml run.\n",
    "#cwd = os.getcwd()\n",
    "file_path = r'C:/Users/jhyan/Documents/all/Lectures/UW-Madison_course_enroll/MSE_401/data/generated_features.csv'\n",
    "generated_features_path = os.path.join(file_path)\n",
    "features_df = pd.read_csv(generated_features_path)"
   ]
  },
  {
   "cell_type": "markdown",
   "metadata": {},
   "source": [
    "The raw MASTML output combines the original data and the generated features in one single dataframe, which isn't ideal. To make our next step (feature engineering) easier, We will split it into two dataframes:\n",
    "1. `target_data_df`: target values (outputs)\n",
    "2. `features_df`: features (inputs)"
   ]
  },
  {
   "cell_type": "code",
   "execution_count": 37,
   "metadata": {},
   "outputs": [],
   "source": [
    "#split features_df into two dataframes\n",
    "target_data_df = pd.DataFrame([features_df[\"chemicalFormula Clean\"],features_df[\"Band gap values Clean\"],features_df[\"Band gap units\"],features_df[\"index\"],features_df[\"Reliability\"]]).T\n",
    "features_df = features_df.drop(columns=['index','Reliability','Band gap values Clean','Band gap units','chemicalFormula Clean'])"
   ]
  },
  {
   "cell_type": "markdown",
   "metadata": {},
   "source": [
    "Now, let's take a look at our target values first. Note that it still contains other input information (such as chemical formula) to help you contextualize what the bandgap values mean. Later, we will drop these columns as they won't be used in the model training."
   ]
  },
  {
   "cell_type": "code",
   "execution_count": 38,
   "metadata": {
    "scrolled": true
   },
   "outputs": [
    {
     "data": {
      "text/html": [
       "<div>\n",
       "<style scoped>\n",
       "    .dataframe tbody tr th:only-of-type {\n",
       "        vertical-align: middle;\n",
       "    }\n",
       "\n",
       "    .dataframe tbody tr th {\n",
       "        vertical-align: top;\n",
       "    }\n",
       "\n",
       "    .dataframe thead th {\n",
       "        text-align: right;\n",
       "    }\n",
       "</style>\n",
       "<table border=\"1\" class=\"dataframe\">\n",
       "  <thead>\n",
       "    <tr style=\"text-align: right;\">\n",
       "      <th></th>\n",
       "      <th>chemicalFormula Clean</th>\n",
       "      <th>Band gap values Clean</th>\n",
       "      <th>Band gap units</th>\n",
       "      <th>index</th>\n",
       "      <th>Reliability</th>\n",
       "    </tr>\n",
       "  </thead>\n",
       "  <tbody>\n",
       "    <tr>\n",
       "      <th>0</th>\n",
       "      <td>Li1F1</td>\n",
       "      <td>13.105</td>\n",
       "      <td>eV</td>\n",
       "      <td>0</td>\n",
       "      <td>1</td>\n",
       "    </tr>\n",
       "    <tr>\n",
       "      <th>1</th>\n",
       "      <td>Li1Cl1</td>\n",
       "      <td>9.33</td>\n",
       "      <td>eV</td>\n",
       "      <td>6</td>\n",
       "      <td>1</td>\n",
       "    </tr>\n",
       "    <tr>\n",
       "      <th>2</th>\n",
       "      <td>Li1Br1</td>\n",
       "      <td>7.95</td>\n",
       "      <td>eV</td>\n",
       "      <td>7</td>\n",
       "      <td>1</td>\n",
       "    </tr>\n",
       "    <tr>\n",
       "      <th>3</th>\n",
       "      <td>Li3Sb1</td>\n",
       "      <td>1.0</td>\n",
       "      <td>eV</td>\n",
       "      <td>9</td>\n",
       "      <td>1</td>\n",
       "    </tr>\n",
       "    <tr>\n",
       "      <th>4</th>\n",
       "      <td>Li1I1</td>\n",
       "      <td>6.0</td>\n",
       "      <td>eV</td>\n",
       "      <td>10</td>\n",
       "      <td>1</td>\n",
       "    </tr>\n",
       "    <tr>\n",
       "      <th>...</th>\n",
       "      <td>...</td>\n",
       "      <td>...</td>\n",
       "      <td>...</td>\n",
       "      <td>...</td>\n",
       "      <td>...</td>\n",
       "    </tr>\n",
       "    <tr>\n",
       "      <th>462</th>\n",
       "      <td>Bi1I3</td>\n",
       "      <td>1.9625</td>\n",
       "      <td>eV</td>\n",
       "      <td>1437</td>\n",
       "      <td>1</td>\n",
       "    </tr>\n",
       "    <tr>\n",
       "      <th>463</th>\n",
       "      <td>Bi</td>\n",
       "      <td>0.015</td>\n",
       "      <td>eV</td>\n",
       "      <td>1445</td>\n",
       "      <td>1</td>\n",
       "    </tr>\n",
       "    <tr>\n",
       "      <th>464</th>\n",
       "      <td>Th1O2</td>\n",
       "      <td>4.625</td>\n",
       "      <td>eV</td>\n",
       "      <td>1448</td>\n",
       "      <td>1</td>\n",
       "    </tr>\n",
       "    <tr>\n",
       "      <th>465</th>\n",
       "      <td>UO</td>\n",
       "      <td>1.5</td>\n",
       "      <td>eV</td>\n",
       "      <td>1455</td>\n",
       "      <td>1</td>\n",
       "    </tr>\n",
       "    <tr>\n",
       "      <th>466</th>\n",
       "      <td>U1O2</td>\n",
       "      <td>2.18</td>\n",
       "      <td>eV</td>\n",
       "      <td>1456</td>\n",
       "      <td>1</td>\n",
       "    </tr>\n",
       "  </tbody>\n",
       "</table>\n",
       "<p>467 rows × 5 columns</p>\n",
       "</div>"
      ],
      "text/plain": [
       "    chemicalFormula Clean Band gap values Clean Band gap units index  \\\n",
       "0                   Li1F1                13.105             eV     0   \n",
       "1                  Li1Cl1                  9.33             eV     6   \n",
       "2                  Li1Br1                  7.95             eV     7   \n",
       "3                  Li3Sb1                   1.0             eV     9   \n",
       "4                   Li1I1                   6.0             eV    10   \n",
       "..                    ...                   ...            ...   ...   \n",
       "462                 Bi1I3                1.9625             eV  1437   \n",
       "463                    Bi                 0.015             eV  1445   \n",
       "464                 Th1O2                 4.625             eV  1448   \n",
       "465                    UO                   1.5             eV  1455   \n",
       "466                  U1O2                  2.18             eV  1456   \n",
       "\n",
       "    Reliability  \n",
       "0             1  \n",
       "1             1  \n",
       "2             1  \n",
       "3             1  \n",
       "4             1  \n",
       "..          ...  \n",
       "462           1  \n",
       "463           1  \n",
       "464           1  \n",
       "465           1  \n",
       "466           1  \n",
       "\n",
       "[467 rows x 5 columns]"
      ]
     },
     "execution_count": 38,
     "metadata": {},
     "output_type": "execute_result"
    }
   ],
   "source": [
    "target_data_df # our original dataset with inputs and outputs"
   ]
  },
  {
   "cell_type": "markdown",
   "metadata": {},
   "source": [
    "Let's also take a look at the features generated. Looking at the column names you will notice that each of them follows the pattern of: ElementalProperty_composition_average\n",
    "\n",
    "Some of these properties may be familiar to you such as AtomicWeight, which can be looked up in the periodic table of the elements. Others may be a bit harder to understand from their shorthand such as BCCefflatcnt, which stands for Body Centered Cubic effective lattice constant. In this case this property is describing information about how long certain bond lengths are within an idealized crystal of the element. Even though they are more complex they have still be tabulated by previous researchers and therefore MAST-ML is able to simply look them up from known resources to calculate the properties shown."
   ]
  },
  {
   "cell_type": "code",
   "execution_count": 41,
   "metadata": {
    "scrolled": true
   },
   "outputs": [
    {
     "data": {
      "text/html": [
       "<div>\n",
       "<style scoped>\n",
       "    .dataframe tbody tr th:only-of-type {\n",
       "        vertical-align: middle;\n",
       "    }\n",
       "\n",
       "    .dataframe tbody tr th {\n",
       "        vertical-align: top;\n",
       "    }\n",
       "\n",
       "    .dataframe thead th {\n",
       "        text-align: right;\n",
       "    }\n",
       "</style>\n",
       "<table border=\"1\" class=\"dataframe\">\n",
       "  <thead>\n",
       "    <tr style=\"text-align: right;\">\n",
       "      <th></th>\n",
       "      <th>AtomicNumber_composition_average</th>\n",
       "      <th>AtomicRadii_composition_average</th>\n",
       "      <th>AtomicVolume_composition_average</th>\n",
       "      <th>AtomicWeight_composition_average</th>\n",
       "      <th>BCCefflatcnt_composition_average</th>\n",
       "      <th>BCCenergy_pa_composition_average</th>\n",
       "      <th>BCCfermi_composition_average</th>\n",
       "      <th>BCCmagmom_composition_average</th>\n",
       "      <th>BCCvolume_pa_composition_average</th>\n",
       "      <th>BCCvolume_padiff_composition_average</th>\n",
       "      <th>...</th>\n",
       "      <th>SecondIonizationEnergy_composition_average</th>\n",
       "      <th>ShearModulus_composition_average</th>\n",
       "      <th>SpaceGroupNumber_composition_average</th>\n",
       "      <th>SpecificHeatCapacity_composition_average</th>\n",
       "      <th>ThermalConductivity_composition_average</th>\n",
       "      <th>ThermalExpansionCoefficient_composition_average</th>\n",
       "      <th>ThirdIonizationEnergy_composition_average</th>\n",
       "      <th>n_ws^third_composition_average</th>\n",
       "      <th>phi_composition_average</th>\n",
       "      <th>valence_composition_average</th>\n",
       "    </tr>\n",
       "  </thead>\n",
       "  <tbody>\n",
       "    <tr>\n",
       "      <th>0</th>\n",
       "      <td>6.0</td>\n",
       "      <td>1.1350</td>\n",
       "      <td>9311.576313</td>\n",
       "      <td>12.969702</td>\n",
       "      <td>5.772386</td>\n",
       "      <td>-1.346741</td>\n",
       "      <td>-0.679877</td>\n",
       "      <td>0.0</td>\n",
       "      <td>12.470</td>\n",
       "      <td>-0.680417</td>\n",
       "      <td>...</td>\n",
       "      <td>55.80400</td>\n",
       "      <td>2.10</td>\n",
       "      <td>122.00</td>\n",
       "      <td>2.20300</td>\n",
       "      <td>42.36395</td>\n",
       "      <td>923.00</td>\n",
       "      <td>92.57900</td>\n",
       "      <td>0.490</td>\n",
       "      <td>1.4250</td>\n",
       "      <td>1.0</td>\n",
       "    </tr>\n",
       "    <tr>\n",
       "      <th>1</th>\n",
       "      <td>10.0</td>\n",
       "      <td>1.2700</td>\n",
       "      <td>9169.525548</td>\n",
       "      <td>21.197000</td>\n",
       "      <td>6.658641</td>\n",
       "      <td>-1.410040</td>\n",
       "      <td>1.219961</td>\n",
       "      <td>0.0</td>\n",
       "      <td>18.525</td>\n",
       "      <td>-2.020417</td>\n",
       "      <td>...</td>\n",
       "      <td>50.22400</td>\n",
       "      <td>2.10</td>\n",
       "      <td>146.50</td>\n",
       "      <td>2.03100</td>\n",
       "      <td>42.35445</td>\n",
       "      <td>23.00</td>\n",
       "      <td>81.03100</td>\n",
       "      <td>0.490</td>\n",
       "      <td>1.4250</td>\n",
       "      <td>4.0</td>\n",
       "    </tr>\n",
       "    <tr>\n",
       "      <th>2</th>\n",
       "      <td>19.0</td>\n",
       "      <td>1.3450</td>\n",
       "      <td>32.035942</td>\n",
       "      <td>43.422500</td>\n",
       "      <td>6.919518</td>\n",
       "      <td>-1.432083</td>\n",
       "      <td>1.117212</td>\n",
       "      <td>0.0</td>\n",
       "      <td>21.035</td>\n",
       "      <td>-2.001667</td>\n",
       "      <td>...</td>\n",
       "      <td>49.21900</td>\n",
       "      <td>2.10</td>\n",
       "      <td>146.50</td>\n",
       "      <td>1.90400</td>\n",
       "      <td>42.41100</td>\n",
       "      <td>23.00</td>\n",
       "      <td>79.22550</td>\n",
       "      <td>0.490</td>\n",
       "      <td>1.4250</td>\n",
       "      <td>4.0</td>\n",
       "    </tr>\n",
       "    <tr>\n",
       "      <th>3</th>\n",
       "      <td>15.0</td>\n",
       "      <td>1.5600</td>\n",
       "      <td>23.705899</td>\n",
       "      <td>35.645750</td>\n",
       "      <td>6.704252</td>\n",
       "      <td>-2.371630</td>\n",
       "      <td>2.267697</td>\n",
       "      <td>0.0</td>\n",
       "      <td>19.155</td>\n",
       "      <td>-1.180000</td>\n",
       "      <td>...</td>\n",
       "      <td>61.61100</td>\n",
       "      <td>8.15</td>\n",
       "      <td>213.25</td>\n",
       "      <td>2.73825</td>\n",
       "      <td>69.60000</td>\n",
       "      <td>37.25</td>\n",
       "      <td>98.16325</td>\n",
       "      <td>1.050</td>\n",
       "      <td>3.2375</td>\n",
       "      <td>2.0</td>\n",
       "    </tr>\n",
       "    <tr>\n",
       "      <th>4</th>\n",
       "      <td>28.0</td>\n",
       "      <td>1.4400</td>\n",
       "      <td>32.101458</td>\n",
       "      <td>66.922735</td>\n",
       "      <td>7.343549</td>\n",
       "      <td>-1.459519</td>\n",
       "      <td>2.360221</td>\n",
       "      <td>0.0</td>\n",
       "      <td>25.935</td>\n",
       "      <td>-3.869167</td>\n",
       "      <td>...</td>\n",
       "      <td>47.88450</td>\n",
       "      <td>2.10</td>\n",
       "      <td>146.50</td>\n",
       "      <td>1.86350</td>\n",
       "      <td>42.57450</td>\n",
       "      <td>66.50</td>\n",
       "      <td>77.72550</td>\n",
       "      <td>0.490</td>\n",
       "      <td>1.4250</td>\n",
       "      <td>4.0</td>\n",
       "    </tr>\n",
       "    <tr>\n",
       "      <th>5</th>\n",
       "      <td>23.0</td>\n",
       "      <td>1.5875</td>\n",
       "      <td>25.028908</td>\n",
       "      <td>57.450850</td>\n",
       "      <td>6.767748</td>\n",
       "      <td>-2.372997</td>\n",
       "      <td>2.286196</td>\n",
       "      <td>0.0</td>\n",
       "      <td>19.860</td>\n",
       "      <td>-0.822500</td>\n",
       "      <td>...</td>\n",
       "      <td>61.65025</td>\n",
       "      <td>6.15</td>\n",
       "      <td>174.75</td>\n",
       "      <td>2.71700</td>\n",
       "      <td>65.49250</td>\n",
       "      <td>37.85</td>\n",
       "      <td>98.22800</td>\n",
       "      <td>1.025</td>\n",
       "      <td>3.1750</td>\n",
       "      <td>2.0</td>\n",
       "    </tr>\n",
       "    <tr>\n",
       "      <th>6</th>\n",
       "      <td>6.0</td>\n",
       "      <td>0.9250</td>\n",
       "      <td>9300.147671</td>\n",
       "      <td>12.505791</td>\n",
       "      <td>4.946102</td>\n",
       "      <td>-3.057512</td>\n",
       "      <td>5.584821</td>\n",
       "      <td>0.0</td>\n",
       "      <td>7.565</td>\n",
       "      <td>-0.932500</td>\n",
       "      <td>...</td>\n",
       "      <td>26.66400</td>\n",
       "      <td>66.00</td>\n",
       "      <td>103.00</td>\n",
       "      <td>1.37250</td>\n",
       "      <td>100.13370</td>\n",
       "      <td>395.65</td>\n",
       "      <td>104.41350</td>\n",
       "      <td>0.835</td>\n",
       "      <td>2.5250</td>\n",
       "      <td>2.0</td>\n",
       "    </tr>\n",
       "  </tbody>\n",
       "</table>\n",
       "<p>7 rows × 87 columns</p>\n",
       "</div>"
      ],
      "text/plain": [
       "   AtomicNumber_composition_average  AtomicRadii_composition_average  \\\n",
       "0                               6.0                           1.1350   \n",
       "1                              10.0                           1.2700   \n",
       "2                              19.0                           1.3450   \n",
       "3                              15.0                           1.5600   \n",
       "4                              28.0                           1.4400   \n",
       "5                              23.0                           1.5875   \n",
       "6                               6.0                           0.9250   \n",
       "\n",
       "   AtomicVolume_composition_average  AtomicWeight_composition_average  \\\n",
       "0                       9311.576313                         12.969702   \n",
       "1                       9169.525548                         21.197000   \n",
       "2                         32.035942                         43.422500   \n",
       "3                         23.705899                         35.645750   \n",
       "4                         32.101458                         66.922735   \n",
       "5                         25.028908                         57.450850   \n",
       "6                       9300.147671                         12.505791   \n",
       "\n",
       "   BCCefflatcnt_composition_average  BCCenergy_pa_composition_average  \\\n",
       "0                          5.772386                         -1.346741   \n",
       "1                          6.658641                         -1.410040   \n",
       "2                          6.919518                         -1.432083   \n",
       "3                          6.704252                         -2.371630   \n",
       "4                          7.343549                         -1.459519   \n",
       "5                          6.767748                         -2.372997   \n",
       "6                          4.946102                         -3.057512   \n",
       "\n",
       "   BCCfermi_composition_average  BCCmagmom_composition_average  \\\n",
       "0                     -0.679877                            0.0   \n",
       "1                      1.219961                            0.0   \n",
       "2                      1.117212                            0.0   \n",
       "3                      2.267697                            0.0   \n",
       "4                      2.360221                            0.0   \n",
       "5                      2.286196                            0.0   \n",
       "6                      5.584821                            0.0   \n",
       "\n",
       "   BCCvolume_pa_composition_average  BCCvolume_padiff_composition_average  \\\n",
       "0                            12.470                             -0.680417   \n",
       "1                            18.525                             -2.020417   \n",
       "2                            21.035                             -2.001667   \n",
       "3                            19.155                             -1.180000   \n",
       "4                            25.935                             -3.869167   \n",
       "5                            19.860                             -0.822500   \n",
       "6                             7.565                             -0.932500   \n",
       "\n",
       "   ...  SecondIonizationEnergy_composition_average  \\\n",
       "0  ...                                    55.80400   \n",
       "1  ...                                    50.22400   \n",
       "2  ...                                    49.21900   \n",
       "3  ...                                    61.61100   \n",
       "4  ...                                    47.88450   \n",
       "5  ...                                    61.65025   \n",
       "6  ...                                    26.66400   \n",
       "\n",
       "   ShearModulus_composition_average  SpaceGroupNumber_composition_average  \\\n",
       "0                              2.10                                122.00   \n",
       "1                              2.10                                146.50   \n",
       "2                              2.10                                146.50   \n",
       "3                              8.15                                213.25   \n",
       "4                              2.10                                146.50   \n",
       "5                              6.15                                174.75   \n",
       "6                             66.00                                103.00   \n",
       "\n",
       "   SpecificHeatCapacity_composition_average  \\\n",
       "0                                   2.20300   \n",
       "1                                   2.03100   \n",
       "2                                   1.90400   \n",
       "3                                   2.73825   \n",
       "4                                   1.86350   \n",
       "5                                   2.71700   \n",
       "6                                   1.37250   \n",
       "\n",
       "   ThermalConductivity_composition_average  \\\n",
       "0                                 42.36395   \n",
       "1                                 42.35445   \n",
       "2                                 42.41100   \n",
       "3                                 69.60000   \n",
       "4                                 42.57450   \n",
       "5                                 65.49250   \n",
       "6                                100.13370   \n",
       "\n",
       "   ThermalExpansionCoefficient_composition_average  \\\n",
       "0                                           923.00   \n",
       "1                                            23.00   \n",
       "2                                            23.00   \n",
       "3                                            37.25   \n",
       "4                                            66.50   \n",
       "5                                            37.85   \n",
       "6                                           395.65   \n",
       "\n",
       "   ThirdIonizationEnergy_composition_average  n_ws^third_composition_average  \\\n",
       "0                                   92.57900                           0.490   \n",
       "1                                   81.03100                           0.490   \n",
       "2                                   79.22550                           0.490   \n",
       "3                                   98.16325                           1.050   \n",
       "4                                   77.72550                           0.490   \n",
       "5                                   98.22800                           1.025   \n",
       "6                                  104.41350                           0.835   \n",
       "\n",
       "   phi_composition_average  valence_composition_average  \n",
       "0                   1.4250                          1.0  \n",
       "1                   1.4250                          4.0  \n",
       "2                   1.4250                          4.0  \n",
       "3                   3.2375                          2.0  \n",
       "4                   1.4250                          4.0  \n",
       "5                   3.1750                          2.0  \n",
       "6                   2.5250                          2.0  \n",
       "\n",
       "[7 rows x 87 columns]"
      ]
     },
     "execution_count": 41,
     "metadata": {},
     "output_type": "execute_result"
    }
   ],
   "source": [
    "# features generated\n",
    "features_df.head(7)"
   ]
  },
  {
   "cell_type": "markdown",
   "metadata": {},
   "source": [
    "<div class = \"exercise\">\n",
    "\n",
    "### Exercise 2.1<a name=\"e2.1\"></a>\n",
    "Questions:  \n",
    "1. How many features have we generated?  \n",
    "\n",
    "[Check or Submit Answers](#a2.1)\n",
    "\n",
    "</div>"
   ]
  },
  {
   "cell_type": "code",
   "execution_count": 42,
   "metadata": {},
   "outputs": [
    {
     "name": "stdout",
     "output_type": "stream",
     "text": [
      "There are 87 features that we generated.\n"
     ]
    }
   ],
   "source": [
    "print(\"There are\", features_df.shape[1], \"features that we generated.\")"
   ]
  },
  {
   "cell_type": "markdown",
   "metadata": {},
   "source": [
    "<div class = \"lesson\">\n",
    "\n",
    "### Validating compositional average features<a name = \"lesson2.2\"></a>\n",
    "\n",
    "<div class = \"cellContent\">\n",
    "\n",
    "The Features that we've generated are all compositional averages of elemental properties. Using an existing database of elemental properties, the MASTML code reads in each of the chemical formulas in the dataset and combines each elemental property for each element in the formula according to the following equation:  \n",
    "  \n",
    "\\begin{equation}\n",
    "Property\\_CompositionAverage = \\frac{A \\cdot Property\\_Value_A + B \\cdot Property\\_Value_B}{A + B}\n",
    "\\end{equation}\n",
    "  \n",
    "Where A and B are the amounts of each element in the formula.\n",
    "\n",
    "</div> <!-- closes content -->\n",
    "\n",
    "</div> <!-- closes lesson -->"
   ]
  },
  {
   "cell_type": "markdown",
   "metadata": {},
   "source": [
    "<div class = \"exercise\">\n",
    "\n",
    "### Exercise 2.2<a name=\"e2.2\"></a>\n",
    "Questions:  \n",
    "1. Calculate the $AtomicNumber\\_CompositionAverage$ for the chemical Formula $\\text{Li}_3\\text{Sb}_1. (AtomicNumber_\\text{Li} = 3, AtomicNumber_\\text{Sb} = 51)$\n",
    "\n",
    "[Check or Submit Answers](#a2.2)\n",
    "\n",
    "</div>"
   ]
  },
  {
   "cell_type": "markdown",
   "metadata": {},
   "source": [
    "### Answer Exercise 3.2\n",
    "\n",
    "Based in the formula above:\n",
    "\n",
    "AtomicNumber_CompositionAverage = (3 X 3 + 1 X 51) / (3 + 1) = 15"
   ]
  },
  {
   "cell_type": "markdown",
   "metadata": {},
   "source": [
    "<div class = \"section\">\n",
    "\n",
    "# 3. Feature Engineering<a name=\"3\"></a>\n",
    "---\n",
    "[Back to TOC](#toc)\n",
    "\n",
    "<div class = \"cellContent\">\n",
    "\n",
    "## Overview\n",
    "The next big step we need to do before building models and making prediction is to make sure our features are useful for modeling. We'll perform three checks on our features that should improve their usefulness. This step is similar to the initial dataset cleaning / pre-processing that we did at the start of the lab, except now we're focusing on \"cleaning\" our features instead of cleaning the output data and compositions.\n",
    "\n",
    "Feature Engineering Steps:  \n",
    "1) Remove Constant Columns  \n",
    "2) Remove Highly Correlated Columns  \n",
    "3) Normalize Features  \n",
    "\n",
    "\n",
    "## Learning Outcomes\n",
    "1. Explain benefits of feature normalization, removing correlated features, and removing constant features\n",
    "2. Recall that good features should be able provide information about the target variable\n",
    "3. Recall that good features provide unique information about the target variable\n",
    "4. Define a basic normalization scheme\n",
    "5. Execute a normalization scheme\n",
    "\n",
    "\n",
    "</div> <!-- closes content -->\n",
    "\n",
    "</div> <!-- closes section -->"
   ]
  },
  {
   "cell_type": "markdown",
   "metadata": {},
   "source": [
    "<div class = \"lesson\">\n",
    "\n",
    "### Remove constant columns<a name = \"lesson3.1\"></a>\n",
    "\n",
    "<div class = \"cellContent\">\n",
    "\n",
    "Columns that have a constant value for all data points have no information and can't possibly help the ML model learn anything.  \n",
    "We'll throw those out.\n",
    "\n",
    "</div> <!-- closes content -->\n",
    "\n",
    "</div> <!-- closes lesson -->"
   ]
  },
  {
   "cell_type": "code",
   "execution_count": 43,
   "metadata": {},
   "outputs": [
    {
     "data": {
      "text/plain": [
       "86"
      ]
     },
     "execution_count": 43,
     "metadata": {},
     "output_type": "execute_result"
    }
   ],
   "source": [
    "# Remove Constant Columns\n",
    "features_df_noconstant = features_df.loc[:, (features_df != features_df.iloc[0]).any()] \n",
    "\n",
    "# report number of columns\n",
    "len(features_df_noconstant.columns)"
   ]
  },
  {
   "cell_type": "markdown",
   "metadata": {},
   "source": [
    "<div class = \"exercise\">\n",
    "\n",
    "### Exercise 3.1<a name=\"e3.1\"></a>\n",
    "Questions:  \n",
    "1. How many features do we have left?  \n",
    "2. Should you worry about having too few useful features? \n",
    "\n",
    "[Check or Submit Answers](#a3.1)\n",
    "\n",
    "</div>"
   ]
  },
  {
   "cell_type": "markdown",
   "metadata": {},
   "source": [
    "### Answer Exercise 3.1\n",
    "\n",
    "1. 86 features\n",
    "\n",
    "2. You shouldn't be overly concerned about having too few useful features, as columns with constant values typically don't provide any information about the data in machine learning models and may even have a negative impact on model performance. Therefore, removing these columns with constant values is typically part of data preprocessing to improve model efficiency and performance. In some cases, reducing the number of features can also lower model complexity and prevent overfitting. However, it's important to ensure that a sufficient number of relevant and informative features are retained for the model to make accurate predictions. Therefore, the key is to ensure that the feature selection process is carefully considered to find the most relevant and useful features."
   ]
  },
  {
   "cell_type": "markdown",
   "metadata": {},
   "source": [
    "<div class = \"lesson\">\n",
    "\n",
    "### Remove highly correlated features<a name = \"lesson3.2\"></a>\n",
    "\n",
    "<div class = \"cellContent\">\n",
    "\n",
    "Features that are extremely similar don't give any additional information beyond the first appearance.  \n",
    "They can also confuse the model by giving very similar information that may essentially overload the model.  \n",
    "Before we remove features, let's calculate the `correlation matrix` for all the features. \n",
    "\n",
    "</div> <!-- closes content -->\n",
    "\n",
    "</div> <!-- closes lesson -->"
   ]
  },
  {
   "cell_type": "code",
   "execution_count": 44,
   "metadata": {},
   "outputs": [
    {
     "data": {
      "text/html": [
       "<div>\n",
       "<style scoped>\n",
       "    .dataframe tbody tr th:only-of-type {\n",
       "        vertical-align: middle;\n",
       "    }\n",
       "\n",
       "    .dataframe tbody tr th {\n",
       "        vertical-align: top;\n",
       "    }\n",
       "\n",
       "    .dataframe thead th {\n",
       "        text-align: right;\n",
       "    }\n",
       "</style>\n",
       "<table border=\"1\" class=\"dataframe\">\n",
       "  <thead>\n",
       "    <tr style=\"text-align: right;\">\n",
       "      <th></th>\n",
       "      <th>AtomicNumber_composition_average</th>\n",
       "      <th>AtomicRadii_composition_average</th>\n",
       "      <th>AtomicVolume_composition_average</th>\n",
       "      <th>AtomicWeight_composition_average</th>\n",
       "      <th>BCCefflatcnt_composition_average</th>\n",
       "    </tr>\n",
       "  </thead>\n",
       "  <tbody>\n",
       "    <tr>\n",
       "      <th>AtomicNumber_composition_average</th>\n",
       "      <td>1.000000</td>\n",
       "      <td>0.585580</td>\n",
       "      <td>0.405061</td>\n",
       "      <td>0.998598</td>\n",
       "      <td>0.628049</td>\n",
       "    </tr>\n",
       "    <tr>\n",
       "      <th>AtomicRadii_composition_average</th>\n",
       "      <td>0.585580</td>\n",
       "      <td>1.000000</td>\n",
       "      <td>0.609457</td>\n",
       "      <td>0.571820</td>\n",
       "      <td>0.918506</td>\n",
       "    </tr>\n",
       "    <tr>\n",
       "      <th>AtomicVolume_composition_average</th>\n",
       "      <td>0.405061</td>\n",
       "      <td>0.609457</td>\n",
       "      <td>1.000000</td>\n",
       "      <td>0.382296</td>\n",
       "      <td>0.449378</td>\n",
       "    </tr>\n",
       "    <tr>\n",
       "      <th>AtomicWeight_composition_average</th>\n",
       "      <td>0.998598</td>\n",
       "      <td>0.571820</td>\n",
       "      <td>0.382296</td>\n",
       "      <td>1.000000</td>\n",
       "      <td>0.615523</td>\n",
       "    </tr>\n",
       "    <tr>\n",
       "      <th>BCCefflatcnt_composition_average</th>\n",
       "      <td>0.628049</td>\n",
       "      <td>0.918506</td>\n",
       "      <td>0.449378</td>\n",
       "      <td>0.615523</td>\n",
       "      <td>1.000000</td>\n",
       "    </tr>\n",
       "  </tbody>\n",
       "</table>\n",
       "</div>"
      ],
      "text/plain": [
       "                                  AtomicNumber_composition_average  \\\n",
       "AtomicNumber_composition_average                          1.000000   \n",
       "AtomicRadii_composition_average                           0.585580   \n",
       "AtomicVolume_composition_average                          0.405061   \n",
       "AtomicWeight_composition_average                          0.998598   \n",
       "BCCefflatcnt_composition_average                          0.628049   \n",
       "\n",
       "                                  AtomicRadii_composition_average  \\\n",
       "AtomicNumber_composition_average                         0.585580   \n",
       "AtomicRadii_composition_average                          1.000000   \n",
       "AtomicVolume_composition_average                         0.609457   \n",
       "AtomicWeight_composition_average                         0.571820   \n",
       "BCCefflatcnt_composition_average                         0.918506   \n",
       "\n",
       "                                  AtomicVolume_composition_average  \\\n",
       "AtomicNumber_composition_average                          0.405061   \n",
       "AtomicRadii_composition_average                           0.609457   \n",
       "AtomicVolume_composition_average                          1.000000   \n",
       "AtomicWeight_composition_average                          0.382296   \n",
       "BCCefflatcnt_composition_average                          0.449378   \n",
       "\n",
       "                                  AtomicWeight_composition_average  \\\n",
       "AtomicNumber_composition_average                          0.998598   \n",
       "AtomicRadii_composition_average                           0.571820   \n",
       "AtomicVolume_composition_average                          0.382296   \n",
       "AtomicWeight_composition_average                          1.000000   \n",
       "BCCefflatcnt_composition_average                          0.615523   \n",
       "\n",
       "                                  BCCefflatcnt_composition_average  \n",
       "AtomicNumber_composition_average                          0.628049  \n",
       "AtomicRadii_composition_average                           0.918506  \n",
       "AtomicVolume_composition_average                          0.449378  \n",
       "AtomicWeight_composition_average                          0.615523  \n",
       "BCCefflatcnt_composition_average                          1.000000  "
      ]
     },
     "execution_count": 44,
     "metadata": {},
     "output_type": "execute_result"
    }
   ],
   "source": [
    "# Remove Highly correlated Features\n",
    "# using notes here for methodology: https://chrisalbon.com/machine_learning/feature_selection/drop_highly_correlated_features/\n",
    "\n",
    "features_corr_df = features_df_noconstant.corr(method=\"pearson\").abs()\n",
    "features_corr_df.iloc[:5, :5] # Preview the first 5 rows/columns of the correlation matrix"
   ]
  },
  {
   "cell_type": "markdown",
   "metadata": {},
   "source": [
    "A better way to interpret this correlation matrix is by plotting a heatmap: The darker the color on the plot, the more highly correlated features are.   \n",
    "Note the diagonal line with all 1 values. This is because each feature is by definition perfectly correlated with itself."
   ]
  },
  {
   "cell_type": "code",
   "execution_count": 45,
   "metadata": {},
   "outputs": [
    {
     "data": {
      "image/png": "[encoded data removed]",
      "text/plain": [
       "<Figure size 1000x500 with 2 Axes>"
      ]
     },
     "metadata": {},
     "output_type": "display_data"
    }
   ],
   "source": [
    "# before removing correlated features\n",
    "fig1, ax1 = plt.subplots(figsize=(10,5))\n",
    "c = ax1.pcolor(features_corr_df,cmap=\"Blues\")\n",
    "ax1.set_ylim(ax1.get_ylim()[::-1])\n",
    "ax1.xaxis.set_ticks_position('top')\n",
    "ax1.xaxis.set_label_position('top')\n",
    "ax1.set_xlabel('Feature Numbers')\n",
    "ax1.set_ylabel('Feature Numbers')\n",
    "ax1.set_aspect('equal')\n",
    "plt.colorbar(c,ax=ax1)\n",
    "plt.show()"
   ]
  },
  {
   "cell_type": "markdown",
   "metadata": {},
   "source": []
  },
  {
   "cell_type": "code",
   "execution_count": 46,
   "metadata": {},
   "outputs": [
    {
     "name": "stderr",
     "output_type": "stream",
     "text": [
      "C:\\Users\\jhyan\\AppData\\Local\\Temp\\ipykernel_12368\\3669307771.py:2: DeprecationWarning: `np.bool` is a deprecated alias for the builtin `bool`. To silence this warning, use `bool` by itself. Doing this will not modify any behavior and is safe. If you specifically wanted the numpy scalar type, use `np.bool_` here.\n",
      "Deprecated in NumPy 1.20; for more details and guidance: https://numpy.org/devdocs/release/1.20.0-notes.html#deprecations\n",
      "  upper = features_corr_df.where(np.triu(np.ones(features_corr_df.shape), k=1).astype(np.bool))\n"
     ]
    }
   ],
   "source": [
    "# Filter the features with correlation coefficients above 0.95\n",
    "upper = features_corr_df.where(np.triu(np.ones(features_corr_df.shape), k=1).astype(np.bool))\n",
    "to_drop = [column for column in upper.columns if any(upper[column] > 0.95)]\n",
    "features_df_lowcorr = features_df_noconstant.drop(columns=to_drop)\n",
    "# recalculate the correlation matrix so we can compare\n",
    "features_corr_df_update = features_df_lowcorr.corr(method=\"pearson\").abs()"
   ]
  },
  {
   "cell_type": "code",
   "execution_count": 47,
   "metadata": {
    "scrolled": true
   },
   "outputs": [
    {
     "data": {
      "image/png": "[encoded data removed]",
      "text/plain": [
       "<Figure size 1500x500 with 4 Axes>"
      ]
     },
     "metadata": {},
     "output_type": "display_data"
    }
   ],
   "source": [
    "# plot correlation after removing highly correlated features\n",
    "\n",
    "fig1, (ax1,ax2) = plt.subplots(1,2,figsize=(15,5))\n",
    "c1 = ax1.pcolor(features_corr_df,cmap=\"Blues\")\n",
    "ax1.set_ylim(ax1.get_ylim()[::-1])\n",
    "ax1.xaxis.set_ticks_position('top')\n",
    "ax1.xaxis.set_label_position('top')\n",
    "ax1.set_xlabel('Feature Numbers')\n",
    "ax1.set_ylabel('Feature Numbers')\n",
    "ax1.set_aspect('equal')\n",
    "\n",
    "plt.colorbar(c1,ax=ax1)\n",
    "\n",
    "c2 = ax2.pcolor(features_corr_df_update,cmap=\"Blues\")\n",
    "ax2.set_ylim(ax2.get_ylim()[::-1])\n",
    "ax2.xaxis.set_ticks_position('top')\n",
    "ax2.xaxis.set_label_position('top')\n",
    "ax2.set_xlabel('Feature Numbers')\n",
    "ax2.set_ylabel('Feature Numbers')\n",
    "ax2.set_aspect('equal')\n",
    "plt.colorbar(c2,ax=ax2)\n",
    "plt.show()"
   ]
  },
  {
   "cell_type": "code",
   "execution_count": 48,
   "metadata": {},
   "outputs": [
    {
     "data": {
      "text/plain": [
       "71"
      ]
     },
     "execution_count": 48,
     "metadata": {},
     "output_type": "execute_result"
    }
   ],
   "source": [
    "len(features_df_lowcorr.columns)"
   ]
  },
  {
   "cell_type": "markdown",
   "metadata": {},
   "source": [
    "<div class = \"exercise\">\n",
    "\n",
    "### Exercise 3.2<a name=\"e3.2\"></a>\n",
    "Questions:  \n",
    "1. After filtering for highly correlated features how many features do we have left?  \n",
    "2. Are we worried about having too few useful features? \n",
    "\n",
    "[Check or Submit Answers](#a3.2)\n",
    "\n",
    "</div>"
   ]
  },
  {
   "cell_type": "markdown",
   "metadata": {},
   "source": [
    "### Answer Exercise 3.2\n",
    "\n",
    "1. 71\n",
    "\n",
    "2. After filtering for highly correlated features, there is a potential concern about having too few useful features left in the dataset. Removing highly correlated features is a common data preprocessing step to reduce multicollinearity and enhance the interpretability and performance of machine learning models. However, it should be done carefully. If a large number of features were highly correlated and were subsequently removed, it's possible that the remaining set of features may be insufficient to capture the complexity of the underlying data. This could lead to a loss of important information, reduced model expressiveness, and potentially poorer predictive performance. Therefore, it's essential to strike a balance between removing redundant or correlated features and retaining enough relevant features to build an effective predictive model. Careful feature selection and domain knowledge can help ensure that the final feature set is both informative and manageable for the machine learning task at hand."
   ]
  },
  {
   "cell_type": "markdown",
   "metadata": {},
   "source": [
    "<div class = \"lesson\">\n",
    "\n",
    "### feature normalization<a name = \"lesson3.3\"></a>\n",
    "\n",
    "<div class = \"cellContent\">\n",
    "\n",
    "Finally the last thing that we need to do is perform some normalization or rescaling of our features.  \n",
    "Lets take a look at the updated feature dataset and pay attention to the types of features, their ranges, and scale similar to what we did for the band gap earlier\n",
    "\n",
    "</div> <!-- closes content -->\n",
    "\n",
    "</div> <!-- closes lesson -->"
   ]
  },
  {
   "cell_type": "code",
   "execution_count": 50,
   "metadata": {
    "scrolled": true
   },
   "outputs": [
    {
     "data": {
      "text/html": [
       "<div>\n",
       "<style scoped>\n",
       "    .dataframe tbody tr th:only-of-type {\n",
       "        vertical-align: middle;\n",
       "    }\n",
       "\n",
       "    .dataframe tbody tr th {\n",
       "        vertical-align: top;\n",
       "    }\n",
       "\n",
       "    .dataframe thead th {\n",
       "        text-align: right;\n",
       "    }\n",
       "</style>\n",
       "<table border=\"1\" class=\"dataframe\">\n",
       "  <thead>\n",
       "    <tr style=\"text-align: right;\">\n",
       "      <th></th>\n",
       "      <th>AtomicNumber_composition_average</th>\n",
       "      <th>AtomicRadii_composition_average</th>\n",
       "      <th>AtomicVolume_composition_average</th>\n",
       "      <th>BCCefflatcnt_composition_average</th>\n",
       "      <th>BCCenergy_pa_composition_average</th>\n",
       "      <th>BCCfermi_composition_average</th>\n",
       "      <th>BCCmagmom_composition_average</th>\n",
       "      <th>BCCvolume_pa_composition_average</th>\n",
       "      <th>BCCvolume_padiff_composition_average</th>\n",
       "      <th>BoilingT_composition_average</th>\n",
       "      <th>...</th>\n",
       "      <th>NsValence_composition_average</th>\n",
       "      <th>Polarizability_composition_average</th>\n",
       "      <th>SecondIonizationEnergy_composition_average</th>\n",
       "      <th>ShearModulus_composition_average</th>\n",
       "      <th>SpaceGroupNumber_composition_average</th>\n",
       "      <th>ThermalConductivity_composition_average</th>\n",
       "      <th>ThermalExpansionCoefficient_composition_average</th>\n",
       "      <th>ThirdIonizationEnergy_composition_average</th>\n",
       "      <th>n_ws^third_composition_average</th>\n",
       "      <th>valence_composition_average</th>\n",
       "    </tr>\n",
       "  </thead>\n",
       "  <tbody>\n",
       "    <tr>\n",
       "      <th>0</th>\n",
       "      <td>6.0</td>\n",
       "      <td>1.135</td>\n",
       "      <td>9311.576313</td>\n",
       "      <td>5.772386</td>\n",
       "      <td>-1.346741</td>\n",
       "      <td>-0.679877</td>\n",
       "      <td>0.0</td>\n",
       "      <td>12.470</td>\n",
       "      <td>-0.680417</td>\n",
       "      <td>849.94</td>\n",
       "      <td>...</td>\n",
       "      <td>1.50</td>\n",
       "      <td>12.44600</td>\n",
       "      <td>55.8040</td>\n",
       "      <td>2.10</td>\n",
       "      <td>122.00</td>\n",
       "      <td>42.36395</td>\n",
       "      <td>923.00</td>\n",
       "      <td>92.57900</td>\n",
       "      <td>0.49</td>\n",
       "      <td>1.0</td>\n",
       "    </tr>\n",
       "    <tr>\n",
       "      <th>1</th>\n",
       "      <td>10.0</td>\n",
       "      <td>1.270</td>\n",
       "      <td>9169.525548</td>\n",
       "      <td>6.658641</td>\n",
       "      <td>-1.410040</td>\n",
       "      <td>1.219961</td>\n",
       "      <td>0.0</td>\n",
       "      <td>18.525</td>\n",
       "      <td>-2.020417</td>\n",
       "      <td>926.98</td>\n",
       "      <td>...</td>\n",
       "      <td>1.50</td>\n",
       "      <td>13.25750</td>\n",
       "      <td>50.2240</td>\n",
       "      <td>2.10</td>\n",
       "      <td>146.50</td>\n",
       "      <td>42.35445</td>\n",
       "      <td>23.00</td>\n",
       "      <td>81.03100</td>\n",
       "      <td>0.49</td>\n",
       "      <td>4.0</td>\n",
       "    </tr>\n",
       "    <tr>\n",
       "      <th>2</th>\n",
       "      <td>19.0</td>\n",
       "      <td>1.345</td>\n",
       "      <td>32.035942</td>\n",
       "      <td>6.919518</td>\n",
       "      <td>-1.432083</td>\n",
       "      <td>1.117212</td>\n",
       "      <td>0.0</td>\n",
       "      <td>21.035</td>\n",
       "      <td>-2.001667</td>\n",
       "      <td>973.50</td>\n",
       "      <td>...</td>\n",
       "      <td>1.50</td>\n",
       "      <td>13.69250</td>\n",
       "      <td>49.2190</td>\n",
       "      <td>2.10</td>\n",
       "      <td>146.50</td>\n",
       "      <td>42.41100</td>\n",
       "      <td>23.00</td>\n",
       "      <td>79.22550</td>\n",
       "      <td>0.49</td>\n",
       "      <td>4.0</td>\n",
       "    </tr>\n",
       "    <tr>\n",
       "      <th>3</th>\n",
       "      <td>15.0</td>\n",
       "      <td>1.560</td>\n",
       "      <td>23.705899</td>\n",
       "      <td>6.704252</td>\n",
       "      <td>-2.371630</td>\n",
       "      <td>2.267697</td>\n",
       "      <td>0.0</td>\n",
       "      <td>19.155</td>\n",
       "      <td>-1.180000</td>\n",
       "      <td>1676.25</td>\n",
       "      <td>...</td>\n",
       "      <td>1.25</td>\n",
       "      <td>19.90125</td>\n",
       "      <td>61.6110</td>\n",
       "      <td>8.15</td>\n",
       "      <td>213.25</td>\n",
       "      <td>69.60000</td>\n",
       "      <td>37.25</td>\n",
       "      <td>98.16325</td>\n",
       "      <td>1.05</td>\n",
       "      <td>2.0</td>\n",
       "    </tr>\n",
       "    <tr>\n",
       "      <th>4</th>\n",
       "      <td>28.0</td>\n",
       "      <td>1.440</td>\n",
       "      <td>32.101458</td>\n",
       "      <td>7.343549</td>\n",
       "      <td>-1.459519</td>\n",
       "      <td>2.360221</td>\n",
       "      <td>0.0</td>\n",
       "      <td>25.935</td>\n",
       "      <td>-3.869167</td>\n",
       "      <td>1036.15</td>\n",
       "      <td>...</td>\n",
       "      <td>1.50</td>\n",
       "      <td>14.68000</td>\n",
       "      <td>47.8845</td>\n",
       "      <td>2.10</td>\n",
       "      <td>146.50</td>\n",
       "      <td>42.57450</td>\n",
       "      <td>66.50</td>\n",
       "      <td>77.72550</td>\n",
       "      <td>0.49</td>\n",
       "      <td>4.0</td>\n",
       "    </tr>\n",
       "  </tbody>\n",
       "</table>\n",
       "<p>5 rows × 71 columns</p>\n",
       "</div>"
      ],
      "text/plain": [
       "   AtomicNumber_composition_average  AtomicRadii_composition_average  \\\n",
       "0                               6.0                            1.135   \n",
       "1                              10.0                            1.270   \n",
       "2                              19.0                            1.345   \n",
       "3                              15.0                            1.560   \n",
       "4                              28.0                            1.440   \n",
       "\n",
       "   AtomicVolume_composition_average  BCCefflatcnt_composition_average  \\\n",
       "0                       9311.576313                          5.772386   \n",
       "1                       9169.525548                          6.658641   \n",
       "2                         32.035942                          6.919518   \n",
       "3                         23.705899                          6.704252   \n",
       "4                         32.101458                          7.343549   \n",
       "\n",
       "   BCCenergy_pa_composition_average  BCCfermi_composition_average  \\\n",
       "0                         -1.346741                     -0.679877   \n",
       "1                         -1.410040                      1.219961   \n",
       "2                         -1.432083                      1.117212   \n",
       "3                         -2.371630                      2.267697   \n",
       "4                         -1.459519                      2.360221   \n",
       "\n",
       "   BCCmagmom_composition_average  BCCvolume_pa_composition_average  \\\n",
       "0                            0.0                            12.470   \n",
       "1                            0.0                            18.525   \n",
       "2                            0.0                            21.035   \n",
       "3                            0.0                            19.155   \n",
       "4                            0.0                            25.935   \n",
       "\n",
       "   BCCvolume_padiff_composition_average  BoilingT_composition_average  ...  \\\n",
       "0                             -0.680417                        849.94  ...   \n",
       "1                             -2.020417                        926.98  ...   \n",
       "2                             -2.001667                        973.50  ...   \n",
       "3                             -1.180000                       1676.25  ...   \n",
       "4                             -3.869167                       1036.15  ...   \n",
       "\n",
       "   NsValence_composition_average  Polarizability_composition_average  \\\n",
       "0                           1.50                            12.44600   \n",
       "1                           1.50                            13.25750   \n",
       "2                           1.50                            13.69250   \n",
       "3                           1.25                            19.90125   \n",
       "4                           1.50                            14.68000   \n",
       "\n",
       "   SecondIonizationEnergy_composition_average  \\\n",
       "0                                     55.8040   \n",
       "1                                     50.2240   \n",
       "2                                     49.2190   \n",
       "3                                     61.6110   \n",
       "4                                     47.8845   \n",
       "\n",
       "   ShearModulus_composition_average  SpaceGroupNumber_composition_average  \\\n",
       "0                              2.10                                122.00   \n",
       "1                              2.10                                146.50   \n",
       "2                              2.10                                146.50   \n",
       "3                              8.15                                213.25   \n",
       "4                              2.10                                146.50   \n",
       "\n",
       "   ThermalConductivity_composition_average  \\\n",
       "0                                 42.36395   \n",
       "1                                 42.35445   \n",
       "2                                 42.41100   \n",
       "3                                 69.60000   \n",
       "4                                 42.57450   \n",
       "\n",
       "   ThermalExpansionCoefficient_composition_average  \\\n",
       "0                                           923.00   \n",
       "1                                            23.00   \n",
       "2                                            23.00   \n",
       "3                                            37.25   \n",
       "4                                            66.50   \n",
       "\n",
       "   ThirdIonizationEnergy_composition_average  n_ws^third_composition_average  \\\n",
       "0                                   92.57900                            0.49   \n",
       "1                                   81.03100                            0.49   \n",
       "2                                   79.22550                            0.49   \n",
       "3                                   98.16325                            1.05   \n",
       "4                                   77.72550                            0.49   \n",
       "\n",
       "   valence_composition_average  \n",
       "0                          1.0  \n",
       "1                          4.0  \n",
       "2                          4.0  \n",
       "3                          2.0  \n",
       "4                          4.0  \n",
       "\n",
       "[5 rows x 71 columns]"
      ]
     },
     "execution_count": 50,
     "metadata": {},
     "output_type": "execute_result"
    }
   ],
   "source": [
    "features_df_lowcorr.head(5)"
   ]
  },
  {
   "cell_type": "markdown",
   "metadata": {},
   "source": [
    "It should be fairly apparent that our features come in many shapes and sizes. Machine Learning algorithms can be very sensitive to these differences.  \n",
    "For example one feature may be several orders of magnitude larger in values and in range of values.  \n",
    "This can make some algorithms significantly biased towards those features so the best practice is usually to perform some alteration to make all the features look similar, while still preserving the information they contain\n",
    "\n",
    "In our case we're going to linearly rescale the features so that they all have the same minimum and same maximum. If you're interested in checking of the details of how this is done you can check out the documentation for the Scikit-learn method we'll be using: https://scikit-learn.org/stable/modules/generated/sklearn.preprocessing.MinMaxScaler.html"
   ]
  },
  {
   "cell_type": "code",
   "execution_count": 51,
   "metadata": {},
   "outputs": [
    {
     "data": {
      "text/html": [
       "<div>\n",
       "<style scoped>\n",
       "    .dataframe tbody tr th:only-of-type {\n",
       "        vertical-align: middle;\n",
       "    }\n",
       "\n",
       "    .dataframe tbody tr th {\n",
       "        vertical-align: top;\n",
       "    }\n",
       "\n",
       "    .dataframe thead th {\n",
       "        text-align: right;\n",
       "    }\n",
       "</style>\n",
       "<table border=\"1\" class=\"dataframe\">\n",
       "  <thead>\n",
       "    <tr style=\"text-align: right;\">\n",
       "      <th></th>\n",
       "      <th>AtomicNumber_composition_average</th>\n",
       "      <th>AtomicRadii_composition_average</th>\n",
       "      <th>AtomicVolume_composition_average</th>\n",
       "      <th>BCCefflatcnt_composition_average</th>\n",
       "      <th>BCCenergy_pa_composition_average</th>\n",
       "    </tr>\n",
       "  </thead>\n",
       "  <tbody>\n",
       "    <tr>\n",
       "      <th>0</th>\n",
       "      <td>0.012821</td>\n",
       "      <td>0.190923</td>\n",
       "      <td>0.583946</td>\n",
       "      <td>0.176111</td>\n",
       "      <td>0.893262</td>\n",
       "    </tr>\n",
       "    <tr>\n",
       "      <th>1</th>\n",
       "      <td>0.064103</td>\n",
       "      <td>0.275430</td>\n",
       "      <td>0.575030</td>\n",
       "      <td>0.310002</td>\n",
       "      <td>0.884705</td>\n",
       "    </tr>\n",
       "    <tr>\n",
       "      <th>2</th>\n",
       "      <td>0.179487</td>\n",
       "      <td>0.322379</td>\n",
       "      <td>0.001553</td>\n",
       "      <td>0.349415</td>\n",
       "      <td>0.881725</td>\n",
       "    </tr>\n",
       "    <tr>\n",
       "      <th>3</th>\n",
       "      <td>0.128205</td>\n",
       "      <td>0.456964</td>\n",
       "      <td>0.001030</td>\n",
       "      <td>0.316893</td>\n",
       "      <td>0.754709</td>\n",
       "    </tr>\n",
       "    <tr>\n",
       "      <th>4</th>\n",
       "      <td>0.294872</td>\n",
       "      <td>0.381847</td>\n",
       "      <td>0.001557</td>\n",
       "      <td>0.413475</td>\n",
       "      <td>0.878016</td>\n",
       "    </tr>\n",
       "  </tbody>\n",
       "</table>\n",
       "</div>"
      ],
      "text/plain": [
       "   AtomicNumber_composition_average  AtomicRadii_composition_average  \\\n",
       "0                          0.012821                         0.190923   \n",
       "1                          0.064103                         0.275430   \n",
       "2                          0.179487                         0.322379   \n",
       "3                          0.128205                         0.456964   \n",
       "4                          0.294872                         0.381847   \n",
       "\n",
       "   AtomicVolume_composition_average  BCCefflatcnt_composition_average  \\\n",
       "0                          0.583946                          0.176111   \n",
       "1                          0.575030                          0.310002   \n",
       "2                          0.001553                          0.349415   \n",
       "3                          0.001030                          0.316893   \n",
       "4                          0.001557                          0.413475   \n",
       "\n",
       "   BCCenergy_pa_composition_average  \n",
       "0                          0.893262  \n",
       "1                          0.884705  \n",
       "2                          0.881725  \n",
       "3                          0.754709  \n",
       "4                          0.878016  "
      ]
     },
     "execution_count": 51,
     "metadata": {},
     "output_type": "execute_result"
    }
   ],
   "source": [
    "minmax_features = MinMaxScaler().fit_transform(features_df_lowcorr)\n",
    "minmax_features_df = pd.DataFrame(minmax_features,columns=features_df_lowcorr.columns)\n",
    "minmax_features_df.iloc[:5, :5]"
   ]
  },
  {
   "cell_type": "markdown",
   "metadata": {},
   "source": [
    "<font color=blue> challenge: Turn off the feature normalization. Feature normalization is a common practice to enable models to better learn from multiple features when some are on significantly different scales. \n",
    "Try removing this section to see how the later results are affected. In the case of the decision tree / random forest model being used by default this may not be the case, but what about other model types? Try doing the same thing with a Kernel Ridge Regression Model for example. </font>"
   ]
  },
  {
   "cell_type": "markdown",
   "metadata": {},
   "source": [
    "Notice how compared to some of the previous sections, performing the scaling only took a few lines of code. This is the power of using existing code packages and tools that are already out there!"
   ]
  },
  {
   "cell_type": "markdown",
   "metadata": {},
   "source": [
    "<div class = \"section\">\n",
    "\n",
    "# 4. Setup for Model Evaluation<a name=\"4\"></a>\n",
    "---\n",
    "[Back to TOC](#toc)\n",
    "\n",
    "<div class = \"cellContent\">\n",
    "\n",
    "## Overview\n",
    "Before jumping in to model building, we have one last thing to think about: How are we going to know how well our models are performing?  \n",
    "\n",
    "We can test the model by asking it to predict the bandgap value of materials, compare it with measured values, and calculate its prediction error using a range of error metrics (e.g. RMSE, R2, etc), but the naive approach of training and testing the model using the same dataset gives us a <u>biased estimate</u> of model error because the model has *seen* all the data we are asking it to predict already.  \n",
    "\n",
    "To get an <u>unbiased estimate</u> of model error, we can employ a simple <u>cross-validation</u> technique: Setting aside a subset of data as our <u>test set</u>, which the model won't access during the training process. The rest of the data constitutes the <u>training set</u>, which is used to train the model. This allows us to then evaluate model performance by comparing model prediction on both seen data (training set) and unseen data (test set).\n",
    "\n",
    "## Learning Outcomes\n",
    "1. Explain how model evaluation is tied directly to ML application\n",
    "2. Propose a train test split to only predict high bandgap materials\n",
    "3. Define how training and test splits are used by a model\n",
    "\n",
    "\n",
    "</div> <!-- closes content -->\n",
    "\n",
    "</div> <!-- closes section -->"
   ]
  },
  {
   "cell_type": "markdown",
   "metadata": {},
   "source": [
    "<div class = \"lesson\">\n",
    "\n",
    "### Establishing train/test split<a name = \"lesson4.1\"></a>\n",
    "\n",
    "<div class = \"cellContent\">\n",
    "    \n",
    "For now lets split off 10% of the data for testing.\n",
    "\n",
    "</div> <!-- closes content -->\n",
    "\n",
    "</div> <!-- closes lesson -->"
   ]
  },
  {
   "cell_type": "markdown",
   "metadata": {},
   "source": [
    "First, we store our cleaned and normalized inputs and outputs in new variables `X` and `y` for easier understanding and manipulation."
   ]
  },
  {
   "cell_type": "code",
   "execution_count": null,
   "metadata": {},
   "outputs": [],
   "source": [
    "X = minmax_features_df                         # inputs/features \n",
    "y = target_data_df[\"Band gap values Clean\"] # outputs/targets"
   ]
  },
  {
   "cell_type": "markdown",
   "metadata": {},
   "source": [
    "Normally, if you are using machine learning to predict the bandgap (or other properties) of a novel material, you won't know its real bandgap until you fabricate and measure it in the lab, which is bad news for instructors: What's the point if we weren't able to validate the predictions and show you the power of machine learning?   \n",
    "\n",
    "Therefore for instructional purposes, we will stage our prediction by using 5 common materials with known bandgap values instead - Si, SiO2, C, NaCl, and Sn - and removing them from the dataset.\n",
    "\n",
    "The following code accomplishes the above and is not important otherwise. Note that you do **NOT** need this step in a real research setting."
   ]
  },
  {
   "cell_type": "code",
   "execution_count": null,
   "metadata": {},
   "outputs": [],
   "source": [
    "# Find prediction compounds and generate inputs for them to make predictions later.\n",
    "def extract_predictions(formula=\"string\"):\n",
    "    index_prediction = target_data_df[target_data_df[\"chemicalFormula Clean\"]==formula].index\n",
    "    xpredict = X.loc[index_prediction].copy()\n",
    "    ypredict = y.loc[index_prediction]\n",
    "    \n",
    "    return (index_prediction,xpredict,ypredict)"
   ]
  },
  {
   "cell_type": "code",
   "execution_count": null,
   "metadata": {},
   "outputs": [],
   "source": [
    "index_predict_Si, xpredict_Si, ypredict_Si = extract_predictions(formula=\"Si\")\n",
    "index_predict_SiO2, xpredict_SiO2, ypredict_SiO2 = extract_predictions(formula=\"Si1O2\")\n",
    "index_predict_C, xpredict_C, ypredict_C = extract_predictions(formula=\"C\")\n",
    "index_predict_Sn, xpredict_Sn, ypredict_Sn = extract_predictions(formula=\"Sn\")\n",
    "index_predict_NaCl, xpredict_NaCl, ypredict_NaCl = extract_predictions(formula=\"Na1Cl1\")\n",
    "\n",
    "X_predict = X.drop(index=index_predict_Si.to_list()+index_predict_SiO2.to_list()+index_predict_C.to_list()+index_predict_Sn.to_list()+index_predict_NaCl.to_list())\n",
    "y_predict = y.drop(index=index_predict_Si.to_list()+index_predict_SiO2.to_list()+index_predict_C.to_list()+index_predict_Sn.to_list()+index_predict_NaCl.to_list())"
   ]
  },
  {
   "cell_type": "markdown",
   "metadata": {},
   "source": [
    "Then, we use the `train_test_split()` method from the `scikit-learn` package to generate the split. In this case, our input data `X` and output data `y` are split into 4 parts:    \n",
    "- `X_train`: training set input data  \n",
    "- `X_test`: test set input data  \n",
    "- `y_train`: training set output data  \n",
    "- `y_test`: test set output data  \n",
    "\n",
    "We will continue referencing these 4 objects throughout the rest of this lab."
   ]
  },
  {
   "cell_type": "code",
   "execution_count": null,
   "metadata": {},
   "outputs": [],
   "source": [
    "# Generate train/test split by reserving 10% of data as test set\n",
    "\n",
    "test_fraction = 0.1\n",
    "X_train, X_test, y_train, y_test = train_test_split(X, y, test_size=test_fraction, shuffle=True,random_state=seed)"
   ]
  },
  {
   "cell_type": "markdown",
   "metadata": {},
   "source": [
    "<div class = \"lesson\">\n",
    "\n",
    "### Evaluating train/test split<a name = \"lesson4.2\"></a>\n",
    "\n",
    "<div class = \"cellContent\">\n",
    "    \n",
    "One thing that can be interesting to check is how \"representative\" the splits are of the full dataset. In an ideal world we'd have enough data that even splitting out 10% of it would have enough data in each set to accurately reproduce the whole dataset.  \n",
    "\n",
    "Below lets plot the same histogram of band gap values as we did before, and then plot the same for the train and test set.\n",
    "\n",
    "</div> <!-- closes content -->\n",
    "\n",
    "</div> <!-- closes lesson -->"
   ]
  },
  {
   "cell_type": "code",
   "execution_count": null,
   "metadata": {
    "scrolled": false
   },
   "outputs": [],
   "source": [
    "fig, (ax1, ax2) = plt.subplots(2, figsize=(10,5), sharex = True, gridspec_kw={'hspace': 0})\n",
    "fig.set_tight_layout(False)\n",
    "myarray = mastml_df_clean[\"Band gap values Clean\"]\n",
    "\n",
    "bins = np.true_divide(range(28),2)\n",
    "\n",
    "l1 = sns.distplot(y_train.astype(\"float\"), hist = True, norm_hist = True, kde = False, bins = bins, hist_kws={\"edgecolor\": \"white\"}, label = 'training set', ax = ax1)\n",
    "l2 = sns.distplot(y_test.astype(\"float\"), hist = True, norm_hist = True, kde = False, bins = bins, hist_kws={\"edgecolor\": \"white\", \"color\": \"orange\"}, label = 'test set', ax = ax2)\n",
    "l3 = sns.distplot(myarray, hist = True, norm_hist = True, kde = False, bins = bins, hist_kws={\"histtype\": \"step\",\"linewidth\": 3, \"alpha\": 1, \"color\": \"grey\"}, ax = ax1)\n",
    "l4 = sns.distplot(myarray, hist = True, norm_hist = True, kde = False, bins = bins, hist_kws={\"histtype\": \"step\",\"linewidth\": 3, \"alpha\": 1, \"color\": \"grey\"}, label = 'full dataset', ax = ax2)\n",
    "\n",
    "\n",
    "ax1.set_xticks(range(14))\n",
    "ax2.set_xticks(range(14))\n",
    "ax2.xaxis.label.set_visible(False)\n",
    "handles, labels = [(a + b) for a, b in zip(ax1.get_legend_handles_labels(), ax2.get_legend_handles_labels())]\n",
    "fig.suptitle('Comparing histograms of the train/test split')\n",
    "fig.add_subplot(111, frame_on=False)\n",
    "plt.tick_params(labelcolor=\"none\", bottom=False, left=False)\n",
    "plt.legend(handles, labels, loc = 'center left', bbox_to_anchor=(1, 0.5),prop={'size': 16})\n",
    "plt.xlabel('Measured Bandgap (eV)')\n",
    "_ = plt.ylabel('Density')"
   ]
  },
  {
   "cell_type": "markdown",
   "metadata": {},
   "source": [
    "<div class = \"exercise\">\n",
    "\n",
    "### Exercise 4.1<a name=\"e4.1\"></a>\n",
    "Questions:  \n",
    "1. Does it look like we have enough data that the test split is identical to the full dataset and the train split?\n",
    "\n",
    "[Check Answers](#a4.1)\n",
    "\n",
    "</div>"
   ]
  },
  {
   "cell_type": "markdown",
   "metadata": {},
   "source": [
    "Answers:  \n",
    "1.  "
   ]
  },
  {
   "cell_type": "markdown",
   "metadata": {},
   "source": [
    "<div class = \"section\">\n",
    "\n",
    "# 5. Fitting and Evaluating a Default Model<a name=\"5\"></a>\n",
    "---\n",
    "[Back to TOC](#toc)\n",
    "\n",
    "<div class = \"cellContent\">\n",
    "\n",
    "## Overview\n",
    "\n",
    "Significance:\n",
    "Status quo: what did we do in last section\n",
    "    So far, our dataset has been inspected, properly cleaned and split into training and test sets.\n",
    "Gap: \n",
    "Fill gap: \n",
    "\n",
    "what you will do: Now we finally get to the fun part: Building models and make predictions! We're going to fit a decision tree model to the training data we created in the previous section. Then we'll use that model to predict both the test data and the training data.\n",
    "\n",
    "\n",
    "## Learning Outcomes\n",
    "By the end of this section, you will be able to:\n",
    "1. Evaluate model performance\n",
    "    1. Analyze parity plots for qualitative performance of models\n",
    "    2. Interpret error metrics to compare model performance\n",
    "2. Recognize value of test data predictions in assessing predictive ability compared to training data\n",
    "3. Identify key indicators of overfitting\n",
    "4. Estimate model performance for two different ML applications\n",
    "\n",
    "\n",
    "</div> <!-- closes content -->\n",
    "\n",
    "</div> <!-- closes section -->"
   ]
  },
  {
   "cell_type": "markdown",
   "metadata": {},
   "source": [
    "<div class = \"lesson\">\n",
    "\n",
    "### Fitting the decision tree model<a name = \"lesson5.1\"></a>\n",
    "\n",
    "<div class = \"cellContent\">\n",
    "\n",
    "We'll train or \"fit\" a decision tree model using the `RandomForestRegressor().fit()` class from the `scikit-learn` package we imported at the beginning of the notebook. Notice how this only takes 1 single line of code because we're leveraging existing code package that's been built for us already. Also note that the actual class name that we're using is called RandomForestRegressor. This RandomForestRegressor class can be configured to be identical to a decision tree, however the reason we'll use it is because later on it will give us more flexibility when we start changing the model. A decision tree model is basically a random forest model with 1 tree, so we'll set the `n_estimators` hyperparameter to 1 to make the model mimic a single decision tree.\n",
    "\n",
    "Keep in mind that machine learning is much more than this 1 line of code: You have already gone through a ton of preprocessing and decision making to reach this step!\n",
    "\n",
    "</div> <!-- closes content -->\n",
    "\n",
    "</div> <!-- closes lesson -->"
   ]
  },
  {
   "cell_type": "code",
   "execution_count": null,
   "metadata": {},
   "outputs": [],
   "source": [
    "Default_model = RandomForestRegressor(random_state=seed,n_estimators=1,bootstrap=False).fit(X_train,y_train) # fit the decision tree model\n",
    "print('Model training complete.')\n",
    "# print('Tree depth:', [estimator.tree_.max_depth for estimator in Default_model.estimators_])\n",
    "# for importance in zip (estimator.feature_importances_ for estimator in Default_model.estimators_):\n",
    "#     print (importance)\n",
    "#print('Leaf nodes:',[estimator.tree_.n_leaves for estimator in Default_model.estimators_])"
   ]
  },
  {
   "cell_type": "markdown",
   "metadata": {},
   "source": [
    "The outputs above describes the <u>hyperparameters</u> selected (in this case, by default) to fit the decision tree model.  and the <u>parameters</u> being generated in the training process. You may also wonder what the decision tree *looks* like, and we will visualize the entire tree later.  \n",
    "\n",
    "We'll also go into more detail about what these (hyper)parameters are at a later time when they become more relevant. For now, we're glossing over because simply knowing these (hyper)parameters doesn't help us evaluate model quality until we have seen its performance: How accurately and precisely can our decision tree model predict bandgaps? We will jump into that."
   ]
  },
  {
   "cell_type": "markdown",
   "metadata": {},
   "source": [
    "As one last motivation as we start asssessing our model, lets predict two band gaps of materials you're probably familiar with, Silicon and Silica. Silicon is used in practically every electronic device as a semiconductor, and Silica is basic window glass. You can look up the values of their band gaps fro reference, but look how just in a few lines of code the model can already give us a rough idea of their values. We know Silicon is a semi-conductor and it's bandgap should be fairly low, while the band gap for Silica has to be much higher because window glass shouldn't absorb any light at all. Based on these predictions it seems like the model can already pick up on these trends! But as we've been mentioning, just making a few select predictions is not a good way to measure overall performance, in the next sections we'll dig into more robus ways to measure the performance!"
   ]
  },
  {
   "cell_type": "code",
   "execution_count": null,
   "metadata": {
    "scrolled": true
   },
   "outputs": [],
   "source": [
    "Default_model_all_data = RandomForestRegressor(random_state=seed,n_estimators=1,bootstrap=False).fit(X_predict,y_predict)\n",
    "\n",
    "print(\"Predicting Silicon Band Gap: \",Default_model_all_data.predict(xpredict_Si))\n",
    "\n",
    "print(\"Predicting Silica Band Gap: \",Default_model_all_data.predict(xpredict_SiO2))"
   ]
  },
  {
   "cell_type": "markdown",
   "metadata": {},
   "source": [
    "<div class = \"lesson\">\n",
    "\n",
    "### Evaluating model performance on training and test data<a name = \"lesson5.2\"></a>\n",
    "\n",
    "<div class = \"cellContent\">\n",
    "\n",
    "To evaluate the model performance, we will use it to predict bandgaps of materials it was trained on (training set) as well as materials it has not seen before (test set), and we will compare its performance on both datasets.\n",
    "\n",
    "There are two main ways to understand and evaluate prediction performance:\n",
    "1. Qualitatively, we can create a scatter plot with predicted values on the y-axis and the actual measured values on the x-axis, known as <u>parity plots</u> or <u>predicted versus actual plots</u>. The more closely aligned the data points are to the ideal diagonal line, where each prediction matches the measured value perfectly, the better the model performs on that specific dataset. Parity plots also surface outliers, trends and patterns in the prediction results.\n",
    "2. Quantitatively, we can measure model performance using statistical error metrics. Some of these error metrics, such as RMSE and R2, will be familiar to you if you have taken an introductory statistics class.\n",
    "\n",
    "</div> <!-- closes content -->\n",
    "\n",
    "</div> <!-- closes lesson -->"
   ]
  },
  {
   "cell_type": "code",
   "execution_count": null,
   "metadata": {},
   "outputs": [],
   "source": [
    "Train_predictions = Default_model.predict(X_train)    # Make predictions on training data\n",
    "Test_predictions = Default_model.predict(X_test)      # Make predictions on testing data\n",
    "\n",
    "parity_plots_side_by_side(y_train,Train_predictions,y_test,Test_predictions,title_left=\"Training Data Parity Plot\",title_right=\"Test Data Parity Plot\") # build both plots\n",
    "parity_stats_side_by_side(y_train,Train_predictions,y_test,Test_predictions,\"Training Data\",\"Test Data\")  # print error metrics for training data"
   ]
  },
  {
   "cell_type": "markdown",
   "metadata": {},
   "source": [
    "We've generated a few different error metrics which we can use to asses the model's performance. One that we'll focus on throughout the lab is the Root Mean Squared Error (RMSE), which we are going to use as a rough error bar when talking about predictive ability of the model. Meaning when we're analyzing performance and asking questions about how accurate the model is is making predictions this is the statistic we'll reference. It's important to note that this is just one choice we could make for assigning an error bar to the model's predictions. There are other, more complex methods for generating error bars for model predictions, and we're going to ignore those for now in favor of simplicity. So whenever we're asking you to think about the predictive power of the model for now think of model predictions as having a predicted value plus or minus the RMSE."
   ]
  },
  {
   "cell_type": "markdown",
   "metadata": {},
   "source": [
    "<div class = \"exercise\">\n",
    "\n",
    "### Exercise 5.1<a name=\"e5.1\"></a>\n",
    "Questions:  \n",
    "1. Take a look at the training parity plot. Evaluate model prediction on training data by answering the following:  \n",
    "    1. Is there enough information in the features to make predictions? Do the features model this data (training) well?\n",
    "    2. Are there any outliers?  \n",
    "    3. Does it consistently overpredict/underpredict bandgap values in any particular range?  \n",
    "\n",
    "Take a look at all the training data statistics (RMSE, RMSE/std, MAE, R2). Assume these metrics, specifically RMSE, can be used to put an error bar on any predictions we make. Recall that we identified two ML applications for this model, and answer:\n",
    "\n",
    "2. Can we use this model to predict bandgap values of materials for making single-junction solar cell, which requires a bandgap between 1.1 and 1.7eV?\n",
    "3. Can we use this model to predict high bandgap materials above 3 eV?\n",
    "\n",
    "[Check or Submit Answers](#a5.1)\n",
    "\n",
    "</div>"
   ]
  },
  {
   "cell_type": "markdown",
   "metadata": {},
   "source": [
    "<div class = \"exercise\">\n",
    "\n",
    "### Exercise 5.2<a name=\"e5.2\"></a>\n",
    "Questions:  \n",
    "1. Take a look at the test parity plot. Evaluate model prediction on test data by answering the following:  \n",
    "    1. Is there enough information in the features to make predictions?\n",
    "    2. Are there any outliers?  \n",
    "    3. Does it consistently overpredict/underpredict bandgap values in any particular range? \n",
    "2. Take a look at all the test data statistics (RMSE, RMSE/std, MAE, R2). Given what you now know about model performance on test data, can we still use this model to predict bandgap values of materials for making single-junction solar cell, which requires a bandgap between 1.1 and 1.7eV?  \n",
    "3. Again think about the use case for identifying high band gap materials above 3 eV, could the model differentiate between low and high bandgap materials?\n",
    "\n",
    "[Check or Submit Answers](#a5.2)\n",
    "\n",
    "</div>"
   ]
  },
  {
   "cell_type": "markdown",
   "metadata": {},
   "source": [
    "<div class = \"exercise\">\n",
    "\n",
    "### Exercise 5.3<a name=\"e5.3\"></a>\n",
    "Questions:  \n",
    "1. Compare both the parity plots and performance statistics for the training and test set. Is the model performing better on one set than the other, or is there no difference? (No calculation needed.)  \n",
    "2. Which of the following most accurately describes this model: Underfit, overfit, or neither?\n",
    "3. Should we use training data or test data to estimate model prediction performance?\n",
    "\n",
    "\n",
    "[Check or Submit Answers](#a5.3)\n",
    "\n",
    "</div>"
   ]
  },
  {
   "cell_type": "markdown",
   "metadata": {},
   "source": [
    "<div class = \"lesson\">\n",
    "\n",
    "### Visualizing and interpreting the decision tree model (OPTIONAL)<a name = \"lesson5.3\"></a>\n",
    "\n",
    "<div class = \"cellContent\">\n",
    "\n",
    "It's always important and helpful to understand how your ML model makes predictions - even more so for materials scientists, who are more likely to trust the model prediction and fabricate the recommended materials if the prediction has an explanation that matches their physical intuition (or defies it in a scientifically justifiable way).\n",
    "\n",
    "However, it's often a challenge because many ML models are \"**black boxes**\", the inner workings of which are not interpretable to humans at all. Decision trees are chosen for this lab partly because they are more interpretable than many other models. Even so, it becomes harder to extract physical instinct from them as they grow larger.\n",
    "\n",
    "As a final step, we will visualize the default decision tree model to help you understand what we've built. While the visualization doesn't quantify its performance, it illustrates which features are important and explains the difference between model performances on training and test data.\n",
    "\n",
    "</div> <!-- closes content -->\n",
    "\n",
    "</div> <!-- closes lesson -->"
   ]
  },
  {
   "cell_type": "markdown",
   "metadata": {},
   "source": [
    "<div class = \"info\">\n",
    "\n",
    "### *Large cell output!*\n",
    "\n",
    "\n",
    "<div class = \"cellContent\">\n",
    "    \n",
    "The output of the next cell is very large! Click the left side of the output to expand it for a full view, or click again to minimize it.  \n",
    "\n",
    "Minimizing the output after viewing also makes it easier to interact with the rest of the notebook.\n",
    "\n",
    "</div> <!-- closes content -->\n",
    "</div> <!-- closes protip -->"
   ]
  },
  {
   "cell_type": "code",
   "execution_count": null,
   "metadata": {
    "scrolled": true
   },
   "outputs": [],
   "source": [
    "# generate an image of the default decision tree\n",
    "dot_data = sklearn.tree.export_graphviz(Default_model.estimators_[0],out_file=None,feature_names=features_df_lowcorr.columns,filled=True,rounded=True,special_characters=True)\n",
    "graph = graphviz.Source(dot_data)\n",
    "graph"
   ]
  },
  {
   "cell_type": "markdown",
   "metadata": {},
   "source": [
    "<div class = \"info\">\n",
    "\n",
    "<div class = \"cellContent\">\n",
    "    \n",
    "Locate the decision node `Density_composition_average ≤ 0.059` in the visualization above using Ctrl+F (Cmd+F on Macs).\n",
    "\n",
    "</div> <!-- closes content -->\n",
    "</div> <!-- closes protip -->"
   ]
  },
  {
   "cell_type": "markdown",
   "metadata": {},
   "source": [
    "\n",
    "This visualization explicitly constructs each node in the default tree. Using the decision node `Density_composition_average ≤ 0.059` as an example, \n",
    "\n",
    " It lists which feature the node splits on, gives the mse for the data at that split, how many samples are at the node, and the value of the estimated band gap if it was a leaf node.  \n",
    "It should be immediately apparent that the tree is incredibly large, and and so we'll pick a few things to focus on as we look through it briefly."
   ]
  },
  {
   "cell_type": "markdown",
   "metadata": {},
   "source": [
    "<div class = \"exercise\">\n",
    "\n",
    "### Exercise 5.4<a name=\"e5.4\"></a>\n",
    "Questions:  \n",
    "1. Looking at the Density_composition_average node identified above, how many samples from the training data are included at this node?  \n",
    "2. Trace the branch down from this node until you find a leaf node. How many samples are included at this leaf node?  \n",
    "3. Inspect a few other leaf nodes until you identify how many samples are at the majority of leaf nodes, how many samples is this?  \n",
    "4. based on your previous analysis of overfitting, underfitting, or well fit does this support that previous claim about how the model is fit?  \n",
    "\n",
    "\n",
    "[Check or Submit Answers](#a5.4)\n",
    "\n",
    "</div>"
   ]
  },
  {
   "cell_type": "markdown",
   "metadata": {},
   "source": [
    "<font color=blue> challenge (optional): We're currently leaving out a fairly small percentage of the data, 10%. Try going back and changing this to a few different values to see how it changes the results. For example try: 5%, 25%, 50%, 75%.  \n",
    "To do this you can edit the test_fraction parameter at the start of Section 4 and rerun the cells after that.</font>"
   ]
  },
  {
   "cell_type": "markdown",
   "metadata": {},
   "source": [
    "<div class = \"section\">\n",
    "\n",
    "# 6. Improving the Model by Optimizing Hyperparameters<a name=\"6\"></a>\n",
    "---\n",
    "[Back to TOC](#toc)\n",
    "\n",
    "<div class = \"cellContent\">\n",
    "\n",
    "## Overview (edited)\n",
    "\n",
    "In the previous section, we evaluated the performance of a default model based on its performance in predicting a single set of test data. While this model predicted the training data almost perfectly, predictions of the testing data showed significantly worse performance. This combination of a model that perfectly reproduces training data, but can't predict data it hasn't seen is a classic sign of <u>overfitting</u>. One way to address this issue to to try to alter the hyperparameters of the model.\n",
    "\n",
    "When building our first model we used default settings from the `scikit-learn` package, we can attempt to improve the performance by optimizing the <u>hyperparameters</u> of a model (think of them as *tunable knobs*). \n",
    "\n",
    "This will be the penultimate task in this lab, before we select a final model and make predictions.\n",
    "\n",
    "Remember that a machine learning model has two types of parameters:  \n",
    " - The first are the regular <u>parameters</u> of the model. These would be the coefficients in the case of a linear model; in the case of the decision tree, they are the nodes that get generated when the model is fit, and we don't set them directly.  \n",
    " - The second are the <u>hyperparameters</u>. These are the variables that we adjust to change how the model learns and how it gets fit. For example, for decision trees, we can limit how complex and large the tree can be by setting a number of hyperparameters including the maximum tree depth and the maximum leaf nodes. We can also increase the number of trees that we train and make a model that is an average prediction of these multiple trees.  \n",
    "\n",
    "In this lab, we'll focus in on one hyperparameter specifically called <i>n\\_estimators</i> . Each estimator is one decision tree, and by using the RandomForestRegressor class from sci-kit-learn we can increase this number to build multiple individual trees which will all try to predict our bandgaps. Taking average results from multiple decision trees can often improve model performance and reduces overfitting that can occur in a single decision tree.\n",
    "\n",
    "\n",
    "\n",
    "## Learning Outcomes\n",
    "1. Identify a hyperparameter for the random forest model\n",
    "2. Perform a series of grid searches to find an optimal hyperparameter\n",
    "3. Evaluate model performance for different hyperparameter configurations\n",
    "4. Choose an optimal hyperparameter configuration\n",
    "5. Assess overfitting from learning curves\n",
    "6. Recall final optimized model training step before predictions can be made\n",
    "7. Compare model validation techniques: k-fold CV vs. train/test split\n",
    "8. Evaluate model performance for two different applications\n",
    "9. Recall decision tree (as evidence from inspections) is in high variance regime\n",
    "10. Recall random forest allows smoothing/averaging across many trees to reduce variance\n",
    "\n",
    "\n",
    "</div> <!-- closes content -->\n",
    "\n",
    "</div> <!-- closes section -->"
   ]
  },
  {
   "cell_type": "markdown",
   "metadata": {},
   "source": [
    "<div class = \"lesson\">\n",
    "\n",
    "### Defining a parameter space<a name = \"lesson6.2\"></a>\n",
    "\n",
    "<div class = \"cellContent\">\n",
    "\n",
    "To optimize the hyperparameters we will perform a series of \"grid searches\". As the name implies we will define a grid of hyperparameter values to try, and then build models at each of those grid points. By assessing model performance at each grid point we can make a plot to see how model performance changes as a function of the hyperparameters. \n",
    "\n",
    "As mentioned above we'll be focusing on just varying one hyperparameter, but fundamentally we could vary any number of them at a time and make a higher dimensional grid that explores them all at once. The fundamental contraint to this type of strategy is the amount of time we are willing to wait for results. The more grid point we define, the more models we need to build, and therefore the more time it will take for the code to complete.\n",
    "\n",
    "</div> <!-- closes content -->\n",
    "\n",
    "</div> <!-- closes lesson -->"
   ]
  },
  {
   "cell_type": "code",
   "execution_count": null,
   "metadata": {},
   "outputs": [],
   "source": [
    "print('Default model uses the following hyperparameters:\\n') # print default hyperparameters used\n",
    "pprint(Default_model.get_params())"
   ]
  },
  {
   "cell_type": "code",
   "execution_count": null,
   "metadata": {},
   "outputs": [],
   "source": [
    "# set up hyperparameter grid (a dictionary of hyperparameter candidates that we want the optimization strategy to consider)\n",
    "\n",
    "# EDIT LIST TO TRY DIFFERENT VALUES!\n",
    "### MAKE EDITS BELOW HERE ###\n",
    "\n",
    "number_of_trees = [1,10,25,50]\n",
    "\n",
    "### MAKE EDITS ABOVE HERE ###\n",
    "\n",
    "opt_dict = {'n_estimators':number_of_trees,'bootstrap':['True']}"
   ]
  },
  {
   "cell_type": "markdown",
   "metadata": {},
   "source": [
    "<div class = \"lesson\">\n",
    "\n",
    "### Setting up a cross-validation scheme<a name = \"lesson6.1\"></a>\n",
    "\n",
    "<div class = \"cellContent\">\n",
    "\n",
    "Before we setup our optimization we'll want to readress our methodology for model assessment. Previously we made a single Train vs Test split in the data. This type of assessment is nice as a final check of a model once the hyperparameters are set, however think about what would happen if we only used that single Test split as our method for assessment. The we could find the best model at predicting that specific subset of data, but not the model that is best at predicting all of our available data. To adress this we'll use a cross-validation strategy from scikit-learn called `RepeatedKFold` cross-validation. The main different is that instead of making a single split in the data we will make 'K' splits in the data and predict each of those in turn by training on the remaining data. This means every data point is used in both training and testing. The \"Repeated\" addition to the KFold method means that the process is repeated a number of times so that there are a total of \"K\" x \"Repeats\" splits in the model. Now if we minimze the average error in predicting each split individually we can hopefully find a model that performns well in predicting all of our data!\n",
    "\n",
    "\n",
    "We'll set the number of splits to be 5, and also set a number of repeats to perform as 5. This means that in total we have 25 splits being generated in the training data.  \n",
    "\n",
    "Note: We're still leaving out the previously established testing data and not including it here. This is so we can go back after optimization and see how we do at predicting that data!\n",
    "\n",
    "</div> <!-- closes content -->\n",
    "\n",
    "</div> <!-- closes lesson -->"
   ]
  },
  {
   "cell_type": "code",
   "execution_count": null,
   "metadata": {},
   "outputs": [],
   "source": [
    "# kfold = KFold(n_splits=5,random_state=seed,shuffle=True)\n",
    "kfold = RepeatedKFold(n_splits=5,\n",
    "                      random_state=seed,\n",
    "                      n_repeats=5)"
   ]
  },
  {
   "cell_type": "markdown",
   "metadata": {},
   "source": [
    "<div class = \"lesson\">\n",
    "\n",
    "### Setting up a grid search<a name = \"lesson6.3\"></a>\n",
    "\n",
    "<div class = \"cellContent\">\n",
    "\n",
    "With the cross validation established, and a grid of hyperparameters assigned we just need to put everything together and build all combinations of models with the various splits and hyperparameters. Conveniently `scikit-learn` has build a method for doing just that.\n",
    "\n",
    "The `scikit-learn` documentation on hyperparameter tuning describes such a grid search as consisting of:\n",
    "\n",
    "1. an estimator (our decision tree regressor, for example);\n",
    "2. a parameter space;\n",
    "3. a method for searching or sampling candidates (we are limiting ourselves to a simple grid search in this lab);\n",
    "4. a cross-validation scheme; and\n",
    "5. a score function.\n",
    "\n",
    "*Note: While we are only demonstrating the simplest case of hyperparameter tuning in this lab, you should feel comfortable reading the scikit-learn documentation for continued learning after completing this lab: https://scikit-learn.org/stable/modules/grid_search.html*\n",
    "\n",
    "</div> <!-- closes content -->\n",
    "\n",
    "</div> <!-- closes lesson -->"
   ]
  },
  {
   "cell_type": "code",
   "execution_count": null,
   "metadata": {},
   "outputs": [],
   "source": [
    "# define a grid search strategy\n",
    "\n",
    "import time\n",
    "\n",
    "CV = GridSearchCV(Default_model, # 1. the model whose hyperparamter is being optimized right now\n",
    "                  opt_dict,   # 2. a dictionary of values that we want the grid search to use\n",
    "                  cv=kfold,   # 4. k-fold cross-validation strategy is used to define training and validation splits (note this is separate from test splits) to be used for each grid point\n",
    "                  return_train_score=True,\n",
    "                  scoring=['neg_mean_squared_error','r2','neg_mean_absolute_error'], # 5. the performance metrics to be reported at each grid point specified in opt_dict\n",
    "                  refit='neg_mean_squared_error')\n",
    "\n",
    "# perform grid search\n",
    "tic = time.perf_counter() # start timer\n",
    "\n",
    "CV = CV.fit(X_train,y_train)\n",
    "\n",
    "toc = time.perf_counter() # stop timer\n",
    "\n",
    "# print results\n",
    "print(f\"Grid search completed in {toc - tic:0.3f} seconds.\")\n",
    "print(CV.best_params_)"
   ]
  },
  {
   "cell_type": "markdown",
   "metadata": {},
   "source": [
    "<div class = \"info\">\n",
    "\n",
    "### *Why do some score functions have a \"neg_\" prefix?*\n",
    "\n",
    "<div class = \"cellContent\">\n",
    "\n",
    "Some of the score functions below have \"neg\" or negative in front. That's just done for computational reasons and doesn't change the actual metrics. We'll invert them when analyzing later. \n",
    "\n",
    "\n",
    "</div> <!-- closes content -->\n",
    "\n",
    "</div> <!-- closes protip -->"
   ]
  },
  {
   "cell_type": "markdown",
   "metadata": {},
   "source": [
    "And just like that we've performed the grid search! to visualize the results see the code blocks below."
   ]
  },
  {
   "cell_type": "markdown",
   "metadata": {},
   "source": [
    "<div class = \"lesson\">\n",
    "\n",
    "### Visualizing the learning curve<a name = \"lesson6.4\"></a>\n",
    "\n",
    "<div class = \"cellContent\">\n",
    "\n",
    "How do we find out the best value for the hyperparameter `n_estimators` from the grid search?  \n",
    "Let's check how the performance changed as a function of `n_estimators` by plotting the average Mean Squared Error (MSE) for both the training and validation splits for each hyperparameter choice (specified in `opt_dict`).\n",
    "\n",
    "</div> <!-- closes content -->\n",
    "\n",
    "</div> <!-- closes lesson -->"
   ]
  },
  {
   "cell_type": "code",
   "execution_count": null,
   "metadata": {
    "scrolled": false
   },
   "outputs": [],
   "source": [
    "# plot number of trees vs train and test MSE\n",
    "\n",
    "opt_dict_array = opt_dict[\"n_estimators\"]                     # array of grid points (x-axis)\n",
    "train_mse = CV.cv_results_[\"mean_train_neg_mean_squared_error\"] # MSE of training set at each grid point (y-axis)\n",
    "test_mse = CV.cv_results_[\"mean_test_neg_mean_squared_error\"]   # MSE of test set at each grid point (y-axis)\n",
    "\n",
    "fig1,ax1 = plt.subplots(figsize=(8,4))\n",
    "ax1.scatter(opt_dict_array, -train_mse)\n",
    "ax1.scatter(opt_dict_array, -test_mse)\n",
    "# ax1.fill_between(opt_dict_array, -train_mse, -test_mse, alpha=0.1)\n",
    "ax1.set_xlabel('Number of Trees')\n",
    "ax1.set_ylabel('Mean Squared Error')\n",
    "ax1.set_title('Compare training and validation MSE vs hyperparameter')\n",
    "plt.legend([\"Training\",\"Validation\",\"difference\"])\n",
    "plt.show()\n",
    "print(\"Minimum Mean Squared Error: \", round(min(-test_mse),4))\n",
    "print(\"Number of Trees at minimum: \", opt_dict_array[np.argmin(-test_mse)])"
   ]
  },
  {
   "cell_type": "markdown",
   "metadata": {},
   "source": [
    "<div class = \"exercise\">\n",
    "\n",
    "### Exercise 6.1<a name=\"e6.1\"></a>\n",
    "Before diving into the questions lets run a few different grid searches to get a feel for how it works. By default the notebook is setup with a very rough grid search which should run quickly. be careful adding too many grid points because it is possible to slow down the grid search to the point of not finishing in hours or days. As a rule of thumb lets not set number of trees to be above 100, and lets not include more than 10 individual grid points in any one search. Try to get a sense of how performance varies with number of trees. Before answering questions below set your grid to be [1,3,5,7,10,15,20,50] which should give a reasonable spread of values. As a reminder these edits are made in the section above \"defining a parameter space\" \n",
    "\n",
    "Questions:  \n",
    "1. Looking just at the training data curve above, what is the number for `n_estimators` that gives the smallest MSE?\n",
    "2. How about for the validation data? Which value for `n_estimators` gives the smallest MSE?  \n",
    "3. Look at the trend in validation data. If n_estimators was increased beyond 50 do you think the model would change in performance significantly?  \n",
    "4. Do we expect the model get more complex as we increase the number of trees?  \n",
    "5. Looking at just the validation curve, does increasing number of trees seem to increase overfitting at any point on the curve? This would show up as worsening performance in the validation data as trees increase.\n",
    "\n",
    "[Check or Submit Answers](#a6.1)\n",
    "\n",
    "</div>"
   ]
  },
  {
   "cell_type": "markdown",
   "metadata": {},
   "source": [
    "<div class = \"lesson\">\n",
    "\n",
    "### Default vs. optimized model: cross-validation performance<a name = \"lesson6.5\"></a>\n",
    "\n",
    "<div class = \"cellContent\">\n",
    "\n",
    "Looking at the previous learning cuve of performance versus the number of trees we can see the more trees seems to be giving better performance, however past 20 trees the rate of improvement seems to decrease dramatically. Going forward we'll assume we're using a forest of 50 trees which should give significant improvement in performance compared to where we started.\n",
    "\n",
    "Note: Recall that at each grid point, we are splitting the dataset into 5 random folds and repeating this process 5 times, which means we have trained 50 different decision tree models using the same hyperparameter at that grid point total. Every error metric you see below is the average value across 25 different models with the same hyperparameters but different splits of the training data.\n",
    "\n",
    "Error metrics below are for models with the best hyperparameter from the previous grid search, so make sure the last time you ran the grid search the largest number of trees was 50! You can check if you did this correctly with the cell block below, the `n_estimators` value should be 50\n",
    "\n",
    "</div> <!-- closes content -->\n",
    "\n",
    "</div> <!-- closes lesson -->"
   ]
  },
  {
   "cell_type": "code",
   "execution_count": null,
   "metadata": {},
   "outputs": [],
   "source": [
    "# check what the best parameters identified in the grid search were\n",
    "CV.best_params_"
   ]
  },
  {
   "cell_type": "code",
   "execution_count": null,
   "metadata": {
    "scrolled": true
   },
   "outputs": [],
   "source": [
    "# Extract cross validation performance metrics for the optimized model\n",
    "opt_CV_stats = CV_best_stats(CV,y_train)"
   ]
  },
  {
   "cell_type": "markdown",
   "metadata": {},
   "source": [
    "To compare back to our default model we can construct another grid search that only uses \"1\" for `n_estimators`. That way it will still be the best model available.\n",
    "\n",
    "We do CV on a single grid point (\"1\"), build 25 different models, and average across them to get the results below.\n",
    "\n",
    "Now we can directly compare the model's performance on these metrics generated from the Kfold cross validation."
   ]
  },
  {
   "cell_type": "code",
   "execution_count": null,
   "metadata": {},
   "outputs": [],
   "source": [
    "default_opt_dict = {'n_estimators':[1]}\n",
    "\n",
    "default_CV = GridSearchCV(Default_model,\n",
    "                          default_opt_dict,\n",
    "                          cv=kfold,\n",
    "                          return_train_score=True,\n",
    "                          scoring=['neg_mean_squared_error','r2','neg_mean_absolute_error'],\n",
    "                          refit='neg_mean_squared_error')\n",
    "default_CV = default_CV.fit(X_train,y_train)\n",
    "\n",
    "default_CV_stats = CV_best_stats(default_CV,y_train)"
   ]
  },
  {
   "cell_type": "markdown",
   "metadata": {},
   "source": [
    "<div class = \"exercise\">\n",
    "\n",
    "### Exercise 6.2<a name=\"e6.2\"></a>\n",
    "Questions:  \n",
    "1. Do we get improvement in the RMSE between the default and optimized model? What is the percentage improvement ($|RMSE_{test opt}-RMSE_{test default}|/RMSE_{test default}$)?   \n",
    "\n",
    "For this lab we'll assume that the RMSE metric gives a reasonable error estimate on predictions. So any prediction we made we'll assume it has + or - the CV RMSE value.   \n",
    "2. Assuming this level of accuraccy from the optimized model. Is our model accurate enough to predict single-junction solar materials? where the key design metric is having a band gap between 1.1 eV and 1.7 eV?  \n",
    "3. How about our other task. Is the optimized model accurate enough to predict high bandgap materials? where the key metric is ensuring predictions are above 3 eV?\n",
    "\n",
    "[Check or Submit Answers](#a6.2)\n",
    "\n",
    "</div>"
   ]
  },
  {
   "cell_type": "markdown",
   "metadata": {},
   "source": [
    "<div class = \"lesson\">\n",
    "\n",
    "### Default vs. optimized model: training and test data performance<a name = \"lesson6.6\"></a>\n",
    "\n",
    "<div class = \"cellContent\">\n",
    "\n",
    "The goal is to optimize performance on unseen data\n",
    "\n",
    "Now, remember that we also have the set of Test data that we held out before any hyperparameter optimization. Lets see how the model has changed in predicting that data. We'll make the same two parity plots as before where we use the new optimized hyperparameters.\n",
    "\n",
    "We use the optimized hyperparameters to refit the model using the entire training set.\n",
    "\n",
    "</div> <!-- closes content -->\n",
    "\n",
    "</div> <!-- closes lesson -->"
   ]
  },
  {
   "cell_type": "code",
   "execution_count": null,
   "metadata": {},
   "outputs": [],
   "source": [
    "# Refit the model using the best hyperparameters\n",
    "DT2 = CV.best_estimator_.fit(X_train,y_train)\n",
    "\n",
    "# predict both the train and test data\n",
    "Train_predictions2 = DT2.predict(X_train)\n",
    "Test_predictions2 = DT2.predict(X_test)"
   ]
  },
  {
   "cell_type": "code",
   "execution_count": null,
   "metadata": {},
   "outputs": [],
   "source": [
    "parity_plots_side_by_side(y_train,Train_predictions,y_train,Train_predictions2,title_left=\"Training Parity Plot (Default Model)\",title_right=\"Training Parity Plot (Optimized Model)\") # build both plots\n",
    "parity_stats_side_by_side(y_train,Train_predictions,y_train,Train_predictions2,\"Training Set (Default Model)\",\"Training Set (Optimized Model)\")"
   ]
  },
  {
   "cell_type": "markdown",
   "metadata": {},
   "source": [
    "<div class = \"exercise\">\n",
    "\n",
    "### Exercise 6.3<a name=\"e6.3\"></a>\n",
    "Questions:  \n",
    "1. Look at both the parity plots and the training data statistics. Does the optimized model do better or worse at predicting the training data than the default model?  \n",
    "2. Do prediction performances on training data give you enough information to decide which model is more likely to give better predictions on Si and $\\text{SiO}_2$, which are not in the training set or the test set? Another way to ask this is does the training data result tell us anything about the predictive power of the model?\n",
    "\n",
    "[Check or Submit Answers](#a6.3)\n",
    "\n",
    "</div>"
   ]
  },
  {
   "cell_type": "code",
   "execution_count": null,
   "metadata": {
    "scrolled": false
   },
   "outputs": [],
   "source": [
    "parity_plots_side_by_side(y_test,Test_predictions,y_test,Test_predictions2, title_left=\"Test Parity Plot (Default Model)\",title_right=\"Test Parity Plot (Optimized Model)\") # build both plots\n",
    "parity_stats_side_by_side(y_test,Test_predictions,y_test,Test_predictions2,\"Test Set (Default Model)\",\"Test Set (Optimized Model)\")"
   ]
  },
  {
   "cell_type": "markdown",
   "metadata": {},
   "source": [
    "<div class = \"exercise\">\n",
    "\n",
    "### Exercise 6.4<a name=\"e6.4\"></a>\n",
    "Questions:  \n",
    "1. Just looking at the testing data statistics, does the optimized model do better or worse at predicting the testing data?\n",
    "2. Compare the difference between train and test RMSE for the default and optimized model. Did the difference between training and test performance increase or decrease after hyperparameter optimization?  \n",
    "3. Is this evidence that the optimized model is more overfit or less overfit?  \n",
    "[Check or Submit Answers](#a6.4)\n",
    "\n",
    "</div>"
   ]
  },
  {
   "cell_type": "markdown",
   "metadata": {},
   "source": [
    "<div class = \"exercise\">\n",
    "\n",
    "### Exercise 6.5<a name=\"e6.5\"></a>\n",
    "Questions:  \n",
    "\n",
    "1. Based on your answers to exercise 6.3 and 6.4, if you were to choose between the default model and the optimized model, what decision will you make? Give at least 3 criteria for your evaluation.\n",
    "\n",
    "[Check or Submit Answers](#a6.5)\n",
    "\n",
    "</div>"
   ]
  },
  {
   "cell_type": "markdown",
   "metadata": {},
   "source": [
    "<div class = \"section\">\n",
    "\n",
    "# 7. Making Predictions<a name=\"7\"></a>\n",
    "---\n",
    "[Back to TOC](#toc)\n",
    "\n",
    "<div class = \"cellContent\">\n",
    "\n",
    "## Overview\n",
    "In the final section of the lab we'll do one final test to gauge the model's performance. We've been trying throughout the lab to highlight the importance of keeping a model's use case in mind throughout the process and building and training. In our case we are focusing on two potential use cases. In predicting solar materials which require a bandgap between 1.1 and 1.7 eV, and wide bandgap materials which want a bandgap above 3 eV. \n",
    "\n",
    "In the more general sense, important questions to ask are things like:  \n",
    "1) what is the necessary accuracy for predictions I want to make? For example we've highlighted two use cases for our band gap model, one that requires a much more accurate model than the other.  \n",
    "2) What is the feature space I want to predict in (What compositions are we interested in predicting)? Our dataset is trained entirely on binary and elementary semiconductors. Making predictions outside of this space would be very risky as a lot of our error estimates might break down.\n",
    " \n",
    "\n",
    "## Learning Outcomes\n",
    "1. Judge model performance for two different applications\n",
    "2. Assess previous error predictions\n",
    "3. Propose improvements to an existing model\n",
    "\n",
    "\n",
    "</div> <!-- closes content -->\n",
    "\n",
    "</div> <!-- closes section -->"
   ]
  },
  {
   "cell_type": "markdown",
   "metadata": {},
   "source": [
    "Remember back when we first trained the model and predicted Silicon and Silica? Let do the same thing for fun with the optimized model. The values have likely shifted.\n",
    "\n",
    "When we fit the DT3 model we use the X_predict and y_predict versions of the dataset in which we removed 5 compounds so that we could predict them now. Note that these predictions are a bit artificial because when we did the model optimization this data was included. In a true research environment this isn't something you'd want to do."
   ]
  },
  {
   "cell_type": "code",
   "execution_count": null,
   "metadata": {},
   "outputs": [],
   "source": [
    "# fit model to all data except for the values we want to predict.\n",
    "DT3 = CV.best_estimator_.fit(X_predict,y_predict)"
   ]
  },
  {
   "cell_type": "markdown",
   "metadata": {},
   "source": [
    "Edit the cell below to change which compound is predicted between: Silicon, Silica, Salt, Diamond, and Tin\n",
    "\n",
    "Change the Prediction_features object to one of the following:  \n",
    "xpredict_Si  \n",
    "xpredict_SiO2  \n",
    "xpredict_NaCl  \n",
    "xpredict_C  \n",
    "xpredict_Sn  "
   ]
  },
  {
   "cell_type": "code",
   "execution_count": null,
   "metadata": {},
   "outputs": [],
   "source": [
    "### MAKE EDITS BELOW HERE ###\n",
    "\n",
    "Prediction_features = xpredict_Si\n",
    "\n",
    "### MAKE EDITS ABOVE HERE ###\n",
    "\n",
    "# make a prediction with the trained DT3 model\n",
    "print(\"Predicted Band Gap: \",DT3.predict(Prediction_features))"
   ]
  },
  {
   "cell_type": "markdown",
   "metadata": {},
   "source": [
    "Now for our final test on model performance. We are going to take the individual predictions on our Test data set and quantify how often the model succeeded or failed in making predictions for both the Solar application and Wide Band Gap application. Below we've rearranged the existing data from the parity plots in the previous section and printed it explicitly so we can look in more detail."
   ]
  },
  {
   "cell_type": "markdown",
   "metadata": {},
   "source": [
    "In doing this we are viewing the results of this regression model through the lens of classificaiton. Essentially the materials with known values in a certain range will be viewed as one class of materials, and everything else as another class. We'll then assess how well the model does at correctly identifying these classes of materials. If you want you read up on the background related to a few of these metrics you can look into the metrics precision and recall for binary classifiers. During the exercises below we'll walk through the process of calculating the recall for this pseudo-classification model."
   ]
  },
  {
   "cell_type": "code",
   "execution_count": null,
   "metadata": {},
   "outputs": [],
   "source": [
    "# combine previous data into one dataframe for visualization\n",
    "predictions_combined = pd.DataFrame(list(zip(y_test,Test_predictions2)),columns=['test','predictions'])"
   ]
  },
  {
   "cell_type": "code",
   "execution_count": null,
   "metadata": {
    "scrolled": true
   },
   "outputs": [],
   "source": [
    "# sort on the Test values from low to high\n",
    "predictions_combined.sort_values(\"test\")"
   ]
  },
  {
   "cell_type": "markdown",
   "metadata": {},
   "source": [
    "<div class = \"exercise\">\n",
    "\n",
    "### Exercise 7.1<a name=\"e7.1\"></a>\n",
    "Questions:  \n",
    "\n",
    "The first task was a use case where we want to predict single-junction solar materials and they need to have a band gap between 1.1 eV and 1.7 eV to have decent efficiency.  \n",
    "1. In the Test dataset how many materials do we have with band gaps within the range of being a good solar material? Note in terms of classification we are identifying the number of positive cases in the dataset.  \n",
    "2. Now we'll compare to the Predictions. Find the number of times the positive cases identified in question 1 are predicted to be single-junction solar materials (between 1.1 and 1.7 eV). This is referred to as the number of true positives, the number of times the positive cases were predicted correctly. Divide this number of true positives by the total number of positive cases (from question 1) to obtain the recall value. What is the recall of our pseudo-classifier to predict single-junction solar materials?\n",
    "\n",
    "The second task was to identify high bandgap materials such as GaN, where the bandgap at at or above 3 eV.  \n",
    "3. In the Test dataset how many materials do we have with band gaps at or above 3 eV?  \n",
    "4. Perform the same process from question 2 (remember are classes are now defined differently for this new task) and calculate the recall for predicting high bandgap materials. What is the recall in this case?\n",
    "\n",
    "Think about the performance of the model in correctly completing both of the prediction tasks on the test dataset.\n",
    "5. Based on the evidence from questions 1-4 which tasks can the model succeed at?\n",
    "\n",
    "Challenges (optional questions):\n",
    "6. There are a number of other classification metrics we could have used to assess the performance of the model on the two potential tasks. Calculate the precision and false discovery rate for the two tasks. Do these metrics support the conclusion you made in question 5? We ignored this earlier in favor of simplicity, but potentially there is a more nuanced understanding of how the models might perform.\n",
    "\n",
    "[Check or Submit Answers](#a7.1)\n",
    "\n",
    "</div>"
   ]
  },
  {
   "cell_type": "markdown",
   "metadata": {},
   "source": [
    "# The End"
   ]
  },
  {
   "cell_type": "markdown",
   "metadata": {},
   "source": [
    "So, are we officially done? What's next in the machine learning workflow?\n",
    "\n",
    "- hopefully you have your research problem down at this point. or else, figure out what you need to know, and whether ML can help with that\n",
    "- go back and reiterate on hyperparameter tuning\n",
    "- use a different model\n",
    "    - get uncertainty estimate on your prediction by going from (decision) tree to (random) forest\n",
    "- redo data cleaning/featurization\n",
    "- get more data\n",
    "\n",
    "what should you do next as a student?\n",
    "\n",
    "if this is only interesting to you, and you don't plan to do ML yourself in the near future: solidify the big ideas and key takeaways.\n",
    "\n",
    "if you want to get hands-on with ML:\n",
    "- think about your data  \n",
    "- go through the lab again and figure out each line of code  \n",
    "- change parameters and do all the challenges  \n",
    "- read the docs for software packages such as scikit-learn or mastml that help us perform these machine learning workflows.\n"
   ]
  },
  {
   "cell_type": "markdown",
   "metadata": {},
   "source": [
    " <div class = \"answers\">\n",
    "\n",
    "### Answers<a name=\"answers\"></a>\n",
    "\n",
    "* [Back to TOC](#toc)\n",
    "\n",
    "\n",
    "These are the answers for the code exercises.\n",
    "\n",
    "</div>"
   ]
  },
  {
   "cell_type": "markdown",
   "metadata": {},
   "source": [
    "#### [Back to Exercise 1.1](#e1.1) <a name=\"a1.1\"></a>\n",
    "1. There are duplicate entries for the same chemical formula  "
   ]
  },
  {
   "cell_type": "markdown",
   "metadata": {},
   "source": [
    "#### [Back to Exercise 1.2](#e1.2) <a name=\"a1.2\"></a>\n",
    "\n",
    "1. 1447 data points  \n",
    "2. 467 data points  "
   ]
  },
  {
   "cell_type": "markdown",
   "metadata": {},
   "source": [
    "#### [Back to Exercise 1.3](#e1.3) <a name=\"a1.3\"></a>\n",
    "1. 13.591 eV  (13.096 eV if using the corrected averaging)  \n",
    "2. 5 eV would be much too large to be a useful prediction, being more than twice the standard deviation of the data  \n",
    "3. 0.5 eV would be a useful prediction error, being less than a quarter of the standard deviation in the dataset  "
   ]
  },
  {
   "cell_type": "markdown",
   "metadata": {},
   "source": [
    "#### [Back to Exercise 1.4](#e1.4) <a name=\"a1.4\"></a>\n",
    "1. No, there is significantly more data between 0 and 1 eV  \n",
    "2. No, making predictions above 5 eV might be unreasonable because we have so little data at the high end.  \n",
    "3. We might consider throwing out some low bandgap data to make this more balanced.  "
   ]
  },
  {
   "cell_type": "markdown",
   "metadata": {},
   "source": [
    "#### [Back to Exercise 1.5](#e1.5) <a name=\"a1.5\"></a>\n",
    "1. O, Se, S, Te, As  \n",
    "2. Lu, Tm, Ir, Y, Ta  \n",
    "3. Most confident in predictions of Oxides, then predictions containing Iridium, and least confident in predictions of an element that the model hasn't seen before "
   ]
  },
  {
   "cell_type": "markdown",
   "metadata": {},
   "source": [
    "#### [Back to Exercise 2.1](#e2.1) <a name=\"a2.1\"></a>\n",
    "1. 87 (scroll down to the bottom of the dataframe to see the nubmer of columns - each column represents a feature)"
   ]
  },
  {
   "cell_type": "markdown",
   "metadata": {},
   "source": [
    "#### [Back to Exercise 2.2](#e2.2) <a name=\"a2.2\"></a>\n",
    "1. \\begin{equation} \\frac{3 * 3 + 51 * 1}{1 + 3} = 15 \\end{equation}"
   ]
  },
  {
   "cell_type": "markdown",
   "metadata": {},
   "source": [
    "#### [Back to Exercise 3.1](#e3.1) <a name=\"a3.1\"></a>\n",
    "1. 86  \n",
    "2. No  "
   ]
  },
  {
   "cell_type": "markdown",
   "metadata": {},
   "source": [
    "#### [Back to Exercise 3.2](#e3.2) <a name=\"a3.2\"></a>\n",
    "1. 71  \n",
    "2. No (would be if very low like less than 10)"
   ]
  },
  {
   "cell_type": "markdown",
   "metadata": {},
   "source": [
    "#### [Back to Exercise 4.1](#e4.1) <a name=\"a4.1\"></a>\n",
    "1. No the train and test splits are not identical, there may be some differences between train and test"
   ]
  },
  {
   "cell_type": "markdown",
   "metadata": {},
   "source": [
    "#### [Back to Exercise 5.1](#e5.1) <a name=\"a5.1\"></a>\n",
    "1. \n",
    "    A. Yes, the predictions line up with the ideal line really well.  \n",
    "    B. No.  \n",
    "    C. No, there is no consistent deviation from the ideal line.  \n",
    "2. Yes.  \n",
    "3. Yes."
   ]
  },
  {
   "cell_type": "markdown",
   "metadata": {},
   "source": [
    "#### [Back to Exercise 5.2](#e5.2) <a name=\"a5.2\"></a>\n",
    "1.  \n",
    "    A. Yes. The majority of predictions still lines up with the ideal line.  \n",
    "    B. Yes, there are around 5-6 outliers spread out across the range of measured bandgaps.  \n",
    "    C. No. Although there is more overall deviation from the ideal line, the predictions are spread out evenly on both sides of the ideal line across the entire range and show no consistent over/underpredicting.  \n",
    "2. No. This use case requires that the prediction error doesn't exceed 0.3eV, but the test data RMSE is 1.2615 eV.  \n",
    "3. Yes."
   ]
  },
  {
   "cell_type": "markdown",
   "metadata": {},
   "source": [
    "#### [Back to Exercise 5.3](#e5.3) <a name=\"a5.3\"></a>\n",
    "1. Better on training set, worse on test set.  \n",
    "2. Overfit  \n",
    "3. we need to use test data because the goal of ML, in our case, is to predict properties of materials that the model hasn't seen before, and test set performance is more representative of the prediction task.  "
   ]
  },
  {
   "cell_type": "markdown",
   "metadata": {},
   "source": [
    "#### [Back to Exercise 5.4](#e5.4) <a name=\"a5.4\"></a>\n",
    "1. 10  \n",
    "2. 1  \n",
    "3. 1  \n",
    "4. This supports the idea of the model being overfit as each training data point has it's own leaf node."
   ]
  },
  {
   "cell_type": "markdown",
   "metadata": {},
   "source": [
    "#### [Back to Exercise 6.1](#e6.1) <a name=\"a6.1\"></a>\n",
    "\n",
    "1. 50  \n",
    "2. 50  \n",
    "3. No, the model isn't changing as maximum leaf nodes increases beyond 20  \n",
    "4. Yes, the model is increasing in complexity as we add more trees  \n",
    "5. No, the model consistently improves in performance so it doesn't look like overfitting is increasing"
   ]
  },
  {
   "cell_type": "markdown",
   "metadata": {},
   "source": [
    "#### [Back to Exercise 6.2](#e6.2) <a name=\"a6.2\"></a>\n",
    "\n",
    "1. Yes we see an improvement of 23.52%   \n",
    "2. No.  \n",
    "3. Yes.  "
   ]
  },
  {
   "cell_type": "markdown",
   "metadata": {},
   "source": [
    "#### [Back to Exercise 6.3](#e6.3) <a name=\"a6.3\"></a>\n",
    "\n",
    "1. The optimized model is worse at predicting training data\n",
    "2. No, test or validation predictions are necessary to estimate predictive performance"
   ]
  },
  {
   "cell_type": "markdown",
   "metadata": {},
   "source": [
    "#### [Back to Exercise 6.4](#e6.4) <a name=\"a6.4\"></a>\n",
    "\n",
    "1. The optimized model does better at predicting test data.  \n",
    "2. The difference between training and test performance decreased after hyperparameter optimization.  \n",
    "3. Less overfit, between the training data is more similar to test data.  "
   ]
  },
  {
   "cell_type": "markdown",
   "metadata": {},
   "source": [
    "#### [Back to Exercise 6.5](#e6.5) <a name=\"a6.5\"></a>\n",
    "\n",
    "1. In this lab, we use 3 main criteria for model selection:  \n",
    "    1. Higher cross-validation score, which measures model prediction performance on unseen data  \n",
    "    2. Better performance on test data, which also measures model prediction merformance on unseen data  \n",
    "    3. Less overfit, which suggests the model is less likely to be adversely affected by spurious patterns in the training data  \n",
    "    \n",
    "   The optimized model has a higher CV score (see exercise 6.3), better performance on test data (exercise 6.4) and is less overfit (exercise 6.4) than the default model. We choose the optimized model because we expect it to have better final prediction performance based on the 3 criteria listed above.\n"
   ]
  },
  {
   "cell_type": "markdown",
   "metadata": {},
   "source": [
    "#### [Back to Exercise 7.1](#e7.1) <a name=\"a7.1\"></a>\n",
    "\n",
    "1. 7 materials between 1.1 and 1.7 eV  \n",
    "2. 1/7 of the materials is predicted in the range, ~14% of the time  \n",
    "3. 9 materials at or above 3 eV  \n",
    "4. 100% of materials are correctly predicted above 3 eV  \n",
    "5. The second task of identifying wide bandgap materials the model succeeds at  \n"
   ]
  }
 ],
 "metadata": {
  "kernelspec": {
   "display_name": "Python 3",
   "language": "python",
   "name": "python3"
  },
  "language_info": {
   "codemirror_mode": {
    "name": "ipython",
    "version": 3
   },
   "file_extension": ".py",
   "mimetype": "text/x-python",
   "name": "python",
   "nbconvert_exporter": "python",
   "pygments_lexer": "ipython3",
   "version": "3.11.5"
  }
 },
 "nbformat": 4,
 "nbformat_minor": 2
}
